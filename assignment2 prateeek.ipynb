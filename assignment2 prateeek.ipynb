{
 "cells": [
  {
   "cell_type": "markdown",
   "id": "acc21f70-81ce-4957-a327-ae5f8db5b0ac",
   "metadata": {},
   "source": [
    "                  #Data Types and Structures Questions"
   ]
  },
  {
   "cell_type": "code",
   "execution_count": null,
   "id": "ac20f996-a197-466d-a8b8-0595210f2098",
   "metadata": {},
   "outputs": [],
   "source": [
    "'''#   Q1. What are data structures, and why are they important?\n",
    "\n",
    "    Data structures are organized formats for storing, managing, and accessing data\n",
    "    efficiently—such as lists, dictionaries,sets, and tuples in Python.\n",
    "    They are important because they enable efficient data retrieval, manipulation, and\n",
    "    help solve complex computational problems.\n",
    "    \n",
    "#     Q2. Explain the difference between mutable and immutable data types with examples?\n",
    "\n",
    "    Mutable data types can be changed after creation (e.g., lists, dictionaries),\n",
    "    while immutable data types cannot be changed once created (e.g., tuples, strings).\n",
    "    Example:  \n",
    "    - list1 = [1, 2, 3] (mutable: can modify elements)  \n",
    "    - tuple1 = (1, 2, 3) (immutable: cannot modify elements).\n",
    "    \n",
    "#     Q3. What are the main differences between lists and tuples in Python?\n",
    "\n",
    "    - Lists are mutable, can be changed after creation, and use square brackets [ ].  \n",
    "    - Tuples are immutable, cannot be altered after creation, and use parentheses ( ).  \n",
    "    Lists are often used where data may be modified; tuples for fixed collections.\n",
    "    \n",
    "#     Q4. Describe how dictionaries store data.\n",
    "\n",
    "    Dictionaries store data as key-value pairs, where each key maps to a value.\n",
    "    They use hash tables internally to ensure fast access and retrieval.\n",
    "    \n",
    "#     Q5. Why might you use a set instead of a list in Python?\n",
    "\n",
    "    Sets are used when you need to store unique elements and perform fast membership checks.\n",
    "    Unlike lists, sets automatically remove duplicates and support efficient mathematical \n",
    "    set operations.\n",
    "    \n",
    "#     Q6. What is a string in Python, and how is it different from a list?\n",
    "\n",
    "    A string is an immutable sequence of Unicode characters (e.g., ('hello'). Unlike lists, \n",
    "    which can hold different data types and be modified, strings only hold characters and \n",
    "    cannot be changed after creation.\n",
    "    \n",
    "#     Q7. How do tuples ensure data integrity in Python?\n",
    "\n",
    "    Tuples are immutable, meaning their values cannot be changed after creation. \n",
    "    This immutability ensures that data remains constant and avoids accidental \n",
    "    (or unauthorized) modifications.\n",
    "    \n",
    "#    Q8. What is a hash table, and how does it relate to dictionaries in Python?\n",
    "\n",
    "    A hash table is a data structure that maps keys to values using a hashing function for efficient\n",
    "    lookup.Python dictionaries use hash tables internally to store key-value\n",
    "    pairs and allow rapid access and updates.\n",
    "    \n",
    "#     Q9. Can lists contain different data types in Python?\n",
    "    Yes, lists can store elements of different types, such as integers, strings, \n",
    "    and even nested lists or tuples.\n",
    "    \n",
    "#     Q10. Explain why strings are immutable in Python.\n",
    "\n",
    "    Strings are immutable to ensure data security, allow safe sharing across threads, \n",
    "    and optimize performance via internal memory reuse.\n",
    "    \n",
    "#     Q11. What advantages do dictionaries offer over lists for certain tasks?\n",
    "\n",
    "    Dictionaries offer fast lookups using keys, making them better for data retrieval\n",
    "    by unique identifiers, mapping relationships, and when association is more important than order.\n",
    "    \n",
    "#     Q12. Describe a scenario where using a tuple would be preferable over a list.\n",
    "\n",
    "    Tuples are preferred when data should remain unchanged, such as storing coordinates (x, y),\n",
    "     days of the week, or function argument returns that must not be modified.\n",
    "    \n",
    "#     Q13. How do sets handle duplicate values in Python?\n",
    "\n",
    "    Sets automatically remove duplicate values—only unique elements are stored in a set.\n",
    "    \n",
    "#     Q14. How does the “in” keyword work differently for lists and dictionaries?\n",
    "\n",
    "    For lists, \"in\" checks if an element exists among the list’s values.  \n",
    "    For dictionaries, \"in\" checks if a key exists in the dictionary, not a value.\n",
    "    \n",
    "#     Q15. Can you modify the elements of a tuple? Explain why or why not.\n",
    "\n",
    "    No, tuples are immutable—after creation, their elements cannot be changed, added, or deleted.\n",
    "    \n",
    "#     Q16. What is a nested dictionary, and give an example of its use case?\n",
    "\n",
    "    A nested dictionary is a dictionary within another dictionary.  \n",
    "    Example use case: Storing student records, where each student ID maps to \n",
    "    another dictionary containing subject scores.\n",
    "    \n",
    "#     Q17. Describe the time complexity of accessing elements in a dictionary.\n",
    "\n",
    "     Accessing an element in a dictionary by its key typically has a time complexity O(1), meaning it is \n",
    "     performed in constant time on average due to the hash table implementation used internally by dictionaries\n",
    "    \n",
    "#     Q18. In what situations are lists preferred over dictionaries?\n",
    "\n",
    "    Lists are preferred when order matters, elements are indexed by position, or when storing simple \n",
    "    sequential data without key-value relationships.\n",
    "    \n",
    "#     Q19. Why are dictionaries considered unordered, and how does that affect data retrieval?\n",
    "\n",
    "    Dictionaries do not guarantee order; retrieval is by key, not index. This allows for fast lookup but means items\n",
    "     are not returned in insertion sequence (starting Python 3.7+, insertion order is preserved\n",
    "     but is not the primary retrieval method).\n",
    "    \n",
    "#    Q20. Explain the difference between a list and a dictionary in terms of data retrieval.\n",
    "\n",
    "     Lists retrieve data using integer indices (position-based), whereas dictionaries retrieve data using keys \n",
    "     (key-based,  faster lookup for large datasets).'''"
   ]
  },
  {
   "cell_type": "code",
   "execution_count": null,
   "id": "5dd44922-274e-481a-8b85-6014d15cb961",
   "metadata": {},
   "outputs": [],
   "source": [
    "              #Practical Questions"
   ]
  },
  {
   "cell_type": "code",
   "execution_count": 1,
   "id": "1ec379f1-5021-471c-a10f-364f5c685b67",
   "metadata": {},
   "outputs": [
    {
     "name": "stdout",
     "output_type": "stream",
     "text": [
      "prateek asthana\n"
     ]
    }
   ],
   "source": [
    "# 1. Create a string with your name and print it\n",
    "name = \"prateek asthana\"\n",
    "print(name)"
   ]
  },
  {
   "cell_type": "code",
   "execution_count": 2,
   "id": "add31b49-4994-44f1-9c1a-abbd31fe51a2",
   "metadata": {},
   "outputs": [
    {
     "name": "stdout",
     "output_type": "stream",
     "text": [
      "11\n"
     ]
    }
   ],
   "source": [
    "# 2. Find the length of the string \"Hello World\".\n",
    "print(len(\"Hello World\"))"
   ]
  },
  {
   "cell_type": "code",
   "execution_count": 13,
   "id": "ea801c1f-6993-4156-8af8-e4ebe6a0f8f8",
   "metadata": {},
   "outputs": [
    {
     "name": "stdout",
     "output_type": "stream",
     "text": [
      "Pyt\n"
     ]
    }
   ],
   "source": [
    " #3. Slice the first 3 characters from the string (\"Python Programming\").\n",
    "a = 'Python programming'\n",
    "print(a[:3])"
   ]
  },
  {
   "cell_type": "code",
   "execution_count": 14,
   "id": "554e1d78-b811-492b-b436-02635d7a6bb5",
   "metadata": {},
   "outputs": [
    {
     "name": "stdout",
     "output_type": "stream",
     "text": [
      "HELLO\n"
     ]
    }
   ],
   "source": [
    "# 4. Convert the string \"hello\" to uppercase.\n",
    "\n",
    "a = \"hello\"\n",
    "print(a.upper())\n"
   ]
  },
  {
   "cell_type": "code",
   "execution_count": null,
   "id": "b23c12e3-24f4-41e5-b3a3-d14a740c965c",
   "metadata": {},
   "outputs": [],
   "source": [
    "# 5 Write a code to replace the word \"apple\" with \"orange\" in the string \"I like apple\""
   ]
  },
  {
   "cell_type": "code",
   "execution_count": 19,
   "id": "22081df1-e777-4fbe-a4f1-4cded388c8cc",
   "metadata": {},
   "outputs": [
    {
     "name": "stdout",
     "output_type": "stream",
     "text": [
      "I like orange\n"
     ]
    }
   ],
   "source": [
    "# Original string\n",
    "text = \"I like apple\"\n",
    "\n",
    "a= text.replace(\"apple\",\"orange\")\n",
    "print(a)"
   ]
  },
  {
   "cell_type": "code",
   "execution_count": 23,
   "id": "11fc0641-33b0-47d4-9415-2a2d672593f8",
   "metadata": {},
   "outputs": [
    {
     "name": "stdout",
     "output_type": "stream",
     "text": [
      "[52, 55, 58]\n",
      "<class 'list'>\n"
     ]
    }
   ],
   "source": [
    "#6 Write a code to create a list with numbers 1 to 5 and print it.\n",
    "prateek = [52,55,58]\n",
    "print(prateek)\n",
    "print(type(prateek))"
   ]
  },
  {
   "cell_type": "code",
   "execution_count": 26,
   "id": "e7ec3248-d45e-4b09-92c2-9eba32420060",
   "metadata": {},
   "outputs": [
    {
     "name": "stdout",
     "output_type": "stream",
     "text": [
      "[1, 2, 3, 4, 10]\n"
     ]
    }
   ],
   "source": [
    "#7 Write a code to append the number 10 to the list [1, 2, 3, 4]\n",
    "xyz=[1,2,3,4]\n",
    "xyz.append(10)\n",
    "print(xyz)"
   ]
  },
  {
   "cell_type": "code",
   "execution_count": 27,
   "id": "264eb9a1-aa20-4ab5-bd02-7a220c86c6d7",
   "metadata": {},
   "outputs": [
    {
     "name": "stdout",
     "output_type": "stream",
     "text": [
      "[1, 2, 4, 5]\n"
     ]
    }
   ],
   "source": [
    "#8  Write a code to remove the number 3 from the list [1, 2, 3, 4, 5]\n",
    "\n",
    "a=[1,2,3,4,5]\n",
    "a.remove(3)\n",
    "print(a)"
   ]
  },
  {
   "cell_type": "code",
   "execution_count": 29,
   "id": "293c37c4-208f-4374-9e51-89a4d96ef067",
   "metadata": {},
   "outputs": [
    {
     "name": "stdout",
     "output_type": "stream",
     "text": [
      "b\n"
     ]
    }
   ],
   "source": [
    "#9 Write a code to access the second element in the list ['a', 'b', 'c', 'd']\n",
    "\n",
    "my_list =['a','b','c','d']\n",
    "print(my_list[1])"
   ]
  },
  {
   "cell_type": "code",
   "execution_count": 33,
   "id": "f78516da-3cca-4eb5-a136-c94489172cd1",
   "metadata": {},
   "outputs": [
    {
     "name": "stdout",
     "output_type": "stream",
     "text": [
      "[40, 30, 20, 10]\n"
     ]
    }
   ],
   "source": [
    "#10 Write a code to reverse the list [10, 20, 30, 40, 50].\n",
    "my_list= [10,20,30,40]\n",
    "my_list.reverse()\n",
    "print(my_list)"
   ]
  },
  {
   "cell_type": "code",
   "execution_count": 34,
   "id": "e9ac6163-19c8-477d-a803-67f14e1e4bc3",
   "metadata": {},
   "outputs": [
    {
     "name": "stdout",
     "output_type": "stream",
     "text": [
      "(10, 20, 30, 40, 50)\n",
      "<class 'tuple'>\n"
     ]
    }
   ],
   "source": [
    "#11 Write a code to reverse the list [10, 20, 30, 40, 50].\n",
    "tpl=(10,20,30,40,50)\n",
    "print(tpl)\n",
    "print(type(tpl))"
   ]
  },
  {
   "cell_type": "code",
   "execution_count": 37,
   "id": "fc2e0f92-211b-435c-9fb5-7f9fb2c8ccef",
   "metadata": {},
   "outputs": [
    {
     "name": "stdout",
     "output_type": "stream",
     "text": [
      "blue\n"
     ]
    }
   ],
   "source": [
    "#12 Write a code to access the second-to-last element of the tuple ('red', 'green', 'blue', 'yellow').\n",
    "\n",
    "color=('red','green','blue','yellow' )\n",
    "print(color[-2])"
   ]
  },
  {
   "cell_type": "code",
   "execution_count": 39,
   "id": "cc664566-f5b5-49fe-9260-44844d8b0285",
   "metadata": {},
   "outputs": [
    {
     "name": "stdout",
     "output_type": "stream",
     "text": [
      "5\n"
     ]
    }
   ],
   "source": [
    "#13 Write a code to find the minimum number in the tuple (10, 20, 5, 15).\n",
    "\n",
    "tpl=(10,20,5,15)\n",
    "print(min(tpl))"
   ]
  },
  {
   "cell_type": "code",
   "execution_count": 40,
   "id": "1ccac57a-9d87-49c2-be5a-b26fb749127a",
   "metadata": {},
   "outputs": [
    {
     "name": "stdout",
     "output_type": "stream",
     "text": [
      "1\n"
     ]
    }
   ],
   "source": [
    "#14 Write a code to find the index of the element \"cat\" in the tuple ('dog', 'cat', 'rabbit').\n",
    "\n",
    "tpl=('dog','cat','rabbit')\n",
    "animal=tpl.index ('cat')\n",
    "print(animal)"
   ]
  },
  {
   "cell_type": "code",
   "execution_count": 41,
   "id": "ce8eaea9-61fb-46af-b315-3b6ebf010b29",
   "metadata": {},
   "outputs": [
    {
     "data": {
      "text/plain": [
       "True"
      ]
     },
     "execution_count": 41,
     "metadata": {},
     "output_type": "execute_result"
    }
   ],
   "source": [
    "#15 Write a code to create a tuple containing three different fruits and check if \"kiwi\" is in it\n",
    "\n",
    "fruits=('mango','apple','kiwi')\n",
    "'kiwi' in fruits "
   ]
  },
  {
   "cell_type": "code",
   "execution_count": 1,
   "id": "0a3c546a-041f-42a5-b45a-4e2952412f7c",
   "metadata": {},
   "outputs": [
    {
     "name": "stdout",
     "output_type": "stream",
     "text": [
      "{'a', 'b', 'c'}\n",
      "<class 'set'>\n"
     ]
    }
   ],
   "source": [
    "#16 Write a code to create a set with the elements 'a', 'b', 'c' and print it.\n",
    "\n",
    "alphabet ={'a','b','c'}\n",
    "print(alphabet)\n",
    "print(type(alphabet))"
   ]
  },
  {
   "cell_type": "code",
   "execution_count": 4,
   "id": "6d41d9f1-9c2b-4207-9b1d-aa4d22f19826",
   "metadata": {},
   "outputs": [
    {
     "name": "stdout",
     "output_type": "stream",
     "text": [
      "{1, 2, 3, 4}\n",
      "set()\n"
     ]
    }
   ],
   "source": [
    "#17Write a code to clear all elements from the set {1, 2, 3, 4, 5}.\n",
    "\n",
    "number={1,2,3,4,4}\n",
    "print(number)\n",
    "number.clear()\n",
    "print(number)"
   ]
  },
  {
   "cell_type": "code",
   "execution_count": 5,
   "id": "814455d6-5343-4655-a8de-6bf9431c246d",
   "metadata": {},
   "outputs": [
    {
     "name": "stdout",
     "output_type": "stream",
     "text": [
      "{1, 2, 3}\n"
     ]
    }
   ],
   "source": [
    "#18 Write a code to remove the element 4 from the set  {1, 2, 3, 4}.\n",
    "\n",
    "\n",
    "num={1,2,3,4}\n",
    "num.remove(4)\n",
    "print(num)\n"
   ]
  },
  {
   "cell_type": "code",
   "execution_count": 9,
   "id": "372e71a4-266f-408a-9438-011dd6d1886c",
   "metadata": {},
   "outputs": [
    {
     "name": "stdout",
     "output_type": "stream",
     "text": [
      "{1, 2, 3, 4, 5}\n"
     ]
    }
   ],
   "source": [
    "#19   Write a code to find the union of two sets {1, 2, 3} and {3, 4, 5}.\n",
    "\n",
    "set_1={1,2,3}\n",
    "set_2={3,4,5}\n",
    "\n",
    "print(set_1.union (set_2))"
   ]
  },
  {
   "cell_type": "code",
   "execution_count": 10,
   "id": "549cdd08-d494-4522-a8a4-98f03c1de45b",
   "metadata": {},
   "outputs": [
    {
     "name": "stdout",
     "output_type": "stream",
     "text": [
      "{2, 3}\n"
     ]
    }
   ],
   "source": [
    "#20 Write a code to find the intersection of two sets {1, 2, 3} and {2, 3, 4}.\n",
    "\n",
    "set_1={1,2,3}\n",
    "set_2={2,3,4}\n",
    "\n",
    "print(set_1.intersection(set_2))"
   ]
  },
  {
   "cell_type": "code",
   "execution_count": 11,
   "id": "487bbb06-3ff3-4d10-bafe-30519482c84a",
   "metadata": {},
   "outputs": [
    {
     "name": "stdout",
     "output_type": "stream",
     "text": [
      "{'name': 'John', 'age': 25, 'city': 'New York'}\n"
     ]
    }
   ],
   "source": [
    "#21  Write a code to create a dictionary with the keys \"name\", \"age\", and \"city\", and print it\n",
    "\n",
    "person = {\n",
    "    \"name\": \"John\",\n",
    "    \"age\": 25,\n",
    "    \"city\": \"New York\"}\n",
    "\n",
    "# Printing the dictionary\n",
    "print(person)\n"
   ]
  },
  {
   "cell_type": "code",
   "execution_count": 13,
   "id": "8f5e3d72-afb2-49f9-b964-05bc3da032b8",
   "metadata": {},
   "outputs": [
    {
     "name": "stdout",
     "output_type": "stream",
     "text": [
      "{'name': 'John', 'age': 25, 'country': 'USA'}\n"
     ]
    }
   ],
   "source": [
    "#22 Write a code to add a new key-value pair \"country\": \"USA\" to the dictionary\n",
    "#{'name': 'John', 'age': 25}.\n",
    "\n",
    "person = {'name': 'John', 'age': 25}\n",
    "\n",
    "\n",
    "person['country']= 'USA'\n",
    "\n",
    "print(person)\n"
   ]
  },
  {
   "cell_type": "code",
   "execution_count": 14,
   "id": "8c55f6c8-ba3c-4752-8fe8-2e59807a2ad9",
   "metadata": {},
   "outputs": [
    {
     "name": "stdout",
     "output_type": "stream",
     "text": [
      "{'name': 'Alice', 'age': 30}\n",
      "Alice\n"
     ]
    }
   ],
   "source": [
    "# 23  Write a code to access the value associated with the key \"name\" \n",
    "#in the dictionary {'name': 'Alice', 'age': 30}.\n",
    "\n",
    "person = {'name': 'Alice', 'age':30}\n",
    "\n",
    "print(person)\n",
    "print(person['name'])\n"
   ]
  },
  {
   "cell_type": "code",
   "execution_count": 19,
   "id": "3f5665e2-5e99-44ed-8c61-3253989b4f00",
   "metadata": {},
   "outputs": [
    {
     "name": "stdout",
     "output_type": "stream",
     "text": [
      "{'name': 'Bob', 'city': 'New York'}\n"
     ]
    }
   ],
   "source": [
    "#24 Write a code to remove the key \"age\" from the dictionary \n",
    "#{'name': 'Bob', 'age': 22, 'city': 'New York'}.\n",
    "\n",
    "# Original dictionary\n",
    "person = {'name': 'Bob' , 'age': 22, 'city': 'New York'}\n",
    "\n",
    "# Removing the key \"age\"\n",
    "del person['age']\n",
    "\n",
    "# Printing updated dictionary\n",
    "print(person)\n"
   ]
  },
  {
   "cell_type": "code",
   "execution_count": 24,
   "id": "1612e421-2ca3-4f0c-90cf-a51b23b86342",
   "metadata": {},
   "outputs": [
    {
     "name": "stdout",
     "output_type": "stream",
     "text": [
      "yes key is available\n"
     ]
    }
   ],
   "source": [
    "#25 Write a code to check if the key \"city\" exists in the dictionary \n",
    "#{'name': 'Alice', 'city': 'Paris'}.\n",
    "\n",
    "person = {'name':'Alice' , 'city':'paris'}\n",
    "\n",
    "if 'city' in person:\n",
    "    print('yes key is available')\n",
    "else:\n",
    "    print('no key found')"
   ]
  },
  {
   "cell_type": "code",
   "execution_count": 25,
   "id": "4a315c1f-f3ae-4e35-a545-3ed7ed3897af",
   "metadata": {},
   "outputs": [
    {
     "name": "stdout",
     "output_type": "stream",
     "text": [
      "List: [1, 2, 3, 4, 5]\n",
      "Tuple: ('apple', 'banana', 'cherry')\n",
      "Dictionary: {'name': 'John', 'age': 25, 'city': 'New York'}\n"
     ]
    }
   ],
   "source": [
    "# 26 Write a code to create a list, a tuple, and a dictionary, and print them all.\n",
    "\n",
    "# Creating a list\n",
    "my_list = [1, 2, 3, 4, 5]\n",
    "\n",
    "# Creating a tuple\n",
    "my_tuple = ('apple', 'banana', 'cherry')\n",
    "\n",
    "# Creating a dictionary\n",
    "my_dict = {'name': 'John', 'age': 25, 'city': 'New York'}\n",
    "\n",
    "# Printing them all\n",
    "print(\"List:\", my_list)\n",
    "print(\"Tuple:\", my_tuple)\n",
    "print(\"Dictionary:\", my_dict)\n"
   ]
  },
  {
   "cell_type": "code",
   "execution_count": 31,
   "id": "58207630-fcb7-4e09-ab8e-0b2447429299",
   "metadata": {},
   "outputs": [
    {
     "name": "stdout",
     "output_type": "stream",
     "text": [
      "[2, 19, 26, 64, 98]\n"
     ]
    }
   ],
   "source": [
    "#27 Write a code to create a list of 5 random numbers between 1 and 100, sort it \n",
    "#in ascending order, and print the result.(replaced)\n",
    "\n",
    "import random\n",
    "random_nums = random.sample(range(1, 101), 5)\n",
    "random_nums.sort()\n",
    "print(random_nums)\n",
    "    "
   ]
  },
  {
   "cell_type": "code",
   "execution_count": 32,
   "id": "c4764a74-bf1c-408b-bf89-5656b4be5e55",
   "metadata": {},
   "outputs": [
    {
     "name": "stdout",
     "output_type": "stream",
     "text": [
      "Element at third index: mango\n"
     ]
    }
   ],
   "source": [
    "#28. Write a code to create a list with strings and print the element at the third index.\n",
    "\n",
    "\n",
    "fruits = [\"apple\", \"banana\", \"cherry\", \"mango\", \"orange\"]\n",
    "\n",
    "print(\"Element at third index:\", fruits[3])\n"
   ]
  },
  {
   "cell_type": "code",
   "execution_count": 35,
   "id": "bb52677b-1ed2-418d-a32d-e8bacfc08168",
   "metadata": {},
   "outputs": [
    {
     "name": "stdout",
     "output_type": "stream",
     "text": [
      "Combined dictionary: {'a': 1, 'b': 2, 'c': 3, 'd': 4}\n"
     ]
    }
   ],
   "source": [
    "#29  Write a code to combine two dictionaries into one and print the result.\n",
    "\n",
    "dict1 = {'a': 1, 'b': 2}\n",
    "dict2 = {'c': 3, 'd': 4}\n",
    "\n",
    "# Combining dictionaries\n",
    "combined = {**dict1, **dict2}\n",
    "\n",
    "# Printing result\n",
    "print(\"Combined dictionary:\", combined)\n"
   ]
  },
  {
   "cell_type": "code",
   "execution_count": 37,
   "id": "f0c36cff-f487-4f7a-a669-f38edc97b622",
   "metadata": {},
   "outputs": [
    {
     "name": "stdout",
     "output_type": "stream",
     "text": [
      "{'apple', 'cherry', 'banana', 'mango', 'orange'}\n",
      "<class 'list'>\n"
     ]
    }
   ],
   "source": [
    "#30 Write a code to convert a list of strings into a set.\n",
    "\n",
    "fruits = [\"apple\", \"banana\", \"cherry\", \"mango\", \"orange\"]\n",
    "\n",
    "print(set(fruits))\n",
    "print(type(fruits))"
   ]
  },
  {
   "cell_type": "code",
   "execution_count": null,
   "id": "58acdefe-0584-4316-8881-809bf3b975ab",
   "metadata": {},
   "outputs": [],
   "source": []
  }
 ],
 "metadata": {
  "kernelspec": {
   "display_name": "Python [conda env:base] *",
   "language": "python",
   "name": "conda-base-py"
  },
  "language_info": {
   "codemirror_mode": {
    "name": "ipython",
    "version": 3
   },
   "file_extension": ".py",
   "mimetype": "text/x-python",
   "name": "python",
   "nbconvert_exporter": "python",
   "pygments_lexer": "ipython3",
   "version": "3.13.5"
  }
 },
 "nbformat": 4,
 "nbformat_minor": 5
}
