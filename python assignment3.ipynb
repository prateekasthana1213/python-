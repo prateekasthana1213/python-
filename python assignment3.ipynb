{
 "cells": [
  {
   "cell_type": "code",
   "execution_count": 1,
   "id": "67d91afb-1660-42c7-bcfe-e9e2e90fd4e7",
   "metadata": {},
   "outputs": [],
   "source": [
    "#              Theory Questions: "
   ]
  },
  {
   "cell_type": "code",
   "execution_count": null,
   "id": "641d77b2-86f7-42da-8704-7b649f232321",
   "metadata": {},
   "outputs": [],
   "source": [
    "'''1. What is the difference between a function and a method in Python?\n",
    "\n",
    "ans-The main difference between a function and a method in Python is that a function is an independent block of reusable code defined outside of any class, which can be called by its name directly, while a method is a function that is associated with an object or class and is called on that object. Methods are always defined inside classes and take at least one special parameter which refers to the instance of the class they belong to. Functions do not require this.\n",
    "Example\n",
    "Function:\n",
    "def add(x, y):\n",
    "    return x + y\n",
    "\n",
    "result = add(3, 5)  # 8\n",
    "Method:\n",
    "class Calculator:\n",
    "    def add(self, x, y):\n",
    "        return x + y\n",
    "\n",
    "calc = Calculator()\n",
    "result = calc.add(3, 5)  # Called on an object with self passed automatically 8\n",
    "\n",
    "2. Explain the concept of function arguments and parameters in Python.\n",
    "\n",
    "ans-   Parameters\n",
    "Parameters are variables listed inside the parentheses in a function definition. They act as placeholders for the values that will be passed to the function when it is called. Parameters define what kind of input the function expects to operate on.\n",
    "\n",
    "Example:\n",
    "\n",
    "python\n",
    "def greet(name):  # 'name' is a parameter\n",
    "    print(\"Hello, \" + name)\n",
    "Arguments\n",
    "Arguments are the actual values or data you pass to the function when you call it. These values replace the parameters and are used by the function during execution.\n",
    "\n",
    "Example:\n",
    "\n",
    "python\n",
    "greet(\"Alice\")  # \"Alice\" is an argument\n",
    "\n",
    "3. What are the different ways to define and call a function in Python?\n",
    "\n",
    "ans-There are several ways to define and call functions in Python. \n",
    "Defining a Function\n",
    "Using def keyword:\n",
    "\n",
    "The most common way to define a function is using the def keyword followed by the function name, parentheses (with optional parameters), and a colon.\n",
    "\n",
    "The function's body is indented below the definition line.\n",
    "\n",
    "Example:\n",
    "\n",
    "python\n",
    "def greet():\n",
    "    print(\"Hello, World!\")\n",
    "With Parameters:\n",
    "\n",
    "Functions can take parameters inside the parentheses to accept inputs.\n",
    "\n",
    "Example:\n",
    "\n",
    "python\n",
    "def greet(name):\n",
    "    print(\"Hello, \" + name)\n",
    "Using lambda expressions (Anonymous functions):\n",
    "\n",
    "Lambda is used to define small anonymous functions with a single expression.\n",
    "\n",
    "Example:\n",
    "\n",
    "python\n",
    "add = lambda x, y: x + y\n",
    "print(add(3, 5))\n",
    "Calling a Function\n",
    "A function is called by writing its name followed by parentheses.\n",
    "\n",
    "If the function requires parameters, values should be passed accordingly.\n",
    "\n",
    "Example:\n",
    "\n",
    "python\n",
    "greet()            # Calls function without parameters\n",
    "greet(\"Alice\")     # Calls function with argument\n",
    "Other ways/functions related to call:\n",
    "\n",
    "4. What is the purpose of the `return` statement in a Python function?\n",
    "\n",
    "ans-The purpose of the return statement in a Python function is to end the execution of the function and send a value (or values) back to the place where the function was called. It allows the function to produce an output that can be stored, manipulated, or used elsewhere in the program.\n",
    "\n",
    "def add(a, b):\n",
    "    return a + b\n",
    "\n",
    "result = add(3, 4)  # result gets 7\n",
    "\n",
    "5. What are iterators in Python and how do they differ from iterables?\n",
    "\n",
    "ans-In Python, an iterable is any object capable of returning its members one at a time, allowing it to be looped over in a for-loop or other iteration contexts. Objects like lists, tuples, strings, sets, and dictionaries are examples of iterables. An iterable must implement the __iter__() method that returns an iterator.\n",
    "\n",
    "An iterator, on the other hand, is an object representing a stream of data; it produces the next value each time you call its __next__() method. Iterators keep track of their current state during iteration and raise a StopIteration exception when there are no more items to return.\n",
    "\n",
    "example-\n",
    "my_list = [1, 2, 3]  # iterable\n",
    "my_iter = iter(my_list)  # iterator\n",
    "\n",
    "print(next(my_iter))  # prints 1\n",
    "print(next(my_iter))  # prints 2\n",
    "print(next(my_iter))  # prints 3\n",
    "# next(my_iter) now raises StopIteration\n",
    "\n",
    "6. Explain the concept of generators in Python and how they are defined.\n",
    "\n",
    "ans-Generators in Python are special types of functions that return an iterator. Unlike regular functions which return a single value and terminate, generators produce a sequence of values over time, pausing their execution and maintaining their state between each value using the yield keyword instead of return.\n",
    "example-\n",
    "def count_up_to(max):\n",
    "    count = 1\n",
    "    while count <= max:\n",
    "        yield count\n",
    "        count += 1\n",
    "\n",
    "counter = count_up_to(5)\n",
    "for num in counter:\n",
    "    print(num)\n",
    "output:\n",
    "1\n",
    "2\n",
    "3\n",
    "4\n",
    "5\n",
    "\n",
    "7. What are the advantages of using generators over regular functions?\n",
    "\n",
    "ans-Generators are more memory-efficient, faster for large datasets, allow lazy evaluation, enable pipelines, improve readability, and can handle infinite sequences—advantages that regular functions returning full lists don’t provide.\n",
    "regular function return list\n",
    "def square_numbers_list(n):\n",
    "    result = []\n",
    "    for i in range(n):\n",
    "        result.append(i * i)\n",
    "    return result\n",
    "\n",
    "# Example usage\n",
    "squares = square_numbers_list(5)\n",
    "print(squares)   # [0, 1, 4, 9, 16]\n",
    "\n",
    "\n",
    "Generator Function (uses yield)\n",
    "def square_numbers_generator(n):\n",
    "    for i in range(n):\n",
    "        yield i * i\n",
    "\n",
    "# Example usage\n",
    "squares = square_numbers_generator(5)\n",
    "print(list(squares))   # [0, 1, 4, 9, 16]\n",
    "\n",
    "8. What is a lambda function in Python and when is it typically used?\n",
    "\n",
    "ans-A lambda function in Python is a small anonymous function defined without a name, using the lambda keyword. It can take any number of arguments but can only have a single expression whose result is returned automatically.\n",
    "\n",
    "example-# Lambda function to double a number\n",
    "double = lambda x: x * 2\n",
    "print(double(5))  # Output: 10\n",
    "\n",
    "9. Explain the purpose and usage of the `map()` function in Python.?\n",
    "\n",
    "ans-The map() function in Python is used to apply a specified function to each item in one or more iterables (such as lists, tuples, etc.) and returns an iterator (map object) with the results.\n",
    "\n",
    "Purpose\n",
    "To perform uniform element-wise transformations efficiently.\n",
    "\n",
    "To apply a given function to every element of an iterable without the explicit use of a for loop.\n",
    "\n",
    "To enable clean, concise, and readable code when processing collections of data.\n",
    "example:\n",
    "# Convert a list of string numbers to integers\n",
    "s = ['1', '2', '3', '4']\n",
    "res = map(int, s)\n",
    "print(list(res))  # Output: [1, 2, 3, 4]\n",
    "\n",
    "# Using map with lambda to square numbers\n",
    "numbers = [1, 2, 3, 4, 5]\n",
    "squared = map(lambda x: x**2, numbers)\n",
    "print(list(squared))  # Output: [1, 4, 9, 16, 25]\n",
    "\n",
    "10. What is the difference between `map()`, `reduce()`, and `filter()` functions in Python?\n",
    "\n",
    "ans- map()\n",
    "Purpose: Applies a given function to every element in one or more iterables and returns an iterator with the transformed elements.\n",
    "\n",
    "Output: Iterator/map object with transformed elements.\n",
    "\n",
    "Usage Scenario: When you want to transform all elements in a collection efficiently without explicit loops.\n",
    "\n",
    "Example:\n",
    "numbers = [1, 2, 3, 4]\n",
    "squared = map(lambda x: x ** 2, numbers)\n",
    "print(list(squared))  # Output: [1, 4, 9, 16]\n",
    "filter()\n",
    "Purpose: Applies a function that returns True or False to each element and returns an iterator including only those elements for which the function returns True.\n",
    "\n",
    "Output: Iterator/filter object of elements that satisfy the condition.\n",
    "\n",
    "Usage Scenario: When you want to select or filter elements based on a condition.\n",
    "\n",
    "Example:\n",
    "numbers = [1, 2, 3, 4, 5, 6]\n",
    "evens = filter(lambda x: x % 2 == 0, numbers)\n",
    "print(list(evens))  # Output: [2, 4, 6]\n",
    "reduce()\n",
    "Purpose: Applies a binary function cumulatively to the items of an iterable, reducing the iterable to a single aggregated value.\n",
    "Output: Single value (not an iterable).\n",
    "Usage Scenario: When you need to combine all elements of a sequence into one result, like sum, product, or max.\n",
    "Example:\n",
    "python\n",
    "from functools import reduce\n",
    "numbers = [1, 2, 3, 4]\n",
    "product = reduce(lambda x, y: x * y, numbers)\n",
    "print(product)  # Output: 24'''"
   ]
  },
  {
   "cell_type": "raw",
   "id": "8a487ea4-e06f-4980-afe9-9a9ce840f0c7",
   "metadata": {},
   "source": [
    "#practical question\n"
   ]
  },
  {
   "cell_type": "code",
   "execution_count": 2,
   "id": "4ee40cd7-667a-4257-b7d8-5ab5a8a7ef8a",
   "metadata": {},
   "outputs": [
    {
     "name": "stdout",
     "output_type": "stream",
     "text": [
      "Sum of even numbers: 12\n"
     ]
    }
   ],
   "source": [
    "'''1. Write a Python function that takes a list of numbers as input and returns the sum of all even numbers in\n",
    "the list.'''\n",
    "\n",
    "def sum_of_even_numbers(numbers):\n",
    "    total = 0\n",
    "    for num in numbers:\n",
    "        if num % 2 == 0:  # check if the number is even\n",
    "            total += num\n",
    "    return total\n",
    "\n",
    "# Example usage\n",
    "nums = [1, 2, 3, 4, 5, 6]\n",
    "print(\"Sum of even numbers:\", sum_of_even_numbers(nums))\n"
   ]
  },
  {
   "cell_type": "code",
   "execution_count": 6,
   "id": "dcc230d5-e4ae-4ae6-8ad7-d65a309cdda1",
   "metadata": {},
   "outputs": [
    {
     "data": {
      "text/plain": [
       "'anahtsa keetarp'"
      ]
     },
     "execution_count": 6,
     "metadata": {},
     "output_type": "execute_result"
    }
   ],
   "source": [
    "'''2. Create a Python function that accepts a string and returns the reverse of that string.'''\n",
    "\n",
    "def reverse_string(words):\n",
    "    return words[ : :-1]\n",
    "\n",
    "reverse_string('prateek asthana')"
   ]
  },
  {
   "cell_type": "code",
   "execution_count": 10,
   "id": "f764b068-1b42-4576-b504-a69f59c586b1",
   "metadata": {},
   "outputs": [
    {
     "name": "stdout",
     "output_type": "stream",
     "text": [
      "[1, 4, 9, 16]\n"
     ]
    }
   ],
   "source": [
    "'''3. Implement a Python function that takes a list of integers and returns a new list containing the squares of\n",
    "each number.'''\n",
    "\n",
    "def square_numbers(numbers):\n",
    "    return[num**2 for num in numbers]\n",
    "\n",
    "num=[1,2,3,4]\n",
    "\n",
    "print (square_numbers(num))\n",
    "\n"
   ]
  },
  {
   "cell_type": "code",
   "execution_count": 11,
   "id": "50e78266-5866-4304-9967-b23c97797ae3",
   "metadata": {},
   "outputs": [
    {
     "name": "stdout",
     "output_type": "stream",
     "text": [
      "2 is prime\n",
      "3 is prime\n",
      "5 is prime\n",
      "7 is prime\n",
      "11 is prime\n",
      "13 is prime\n",
      "17 is prime\n",
      "19 is prime\n",
      "23 is prime\n",
      "29 is prime\n",
      "31 is prime\n",
      "37 is prime\n",
      "41 is prime\n",
      "43 is prime\n",
      "47 is prime\n",
      "53 is prime\n",
      "59 is prime\n",
      "61 is prime\n",
      "67 is prime\n",
      "71 is prime\n",
      "73 is prime\n",
      "79 is prime\n",
      "83 is prime\n",
      "89 is prime\n",
      "97 is prime\n",
      "101 is prime\n",
      "103 is prime\n",
      "107 is prime\n",
      "109 is prime\n",
      "113 is prime\n",
      "127 is prime\n",
      "131 is prime\n",
      "137 is prime\n",
      "139 is prime\n",
      "149 is prime\n",
      "151 is prime\n",
      "157 is prime\n",
      "163 is prime\n",
      "167 is prime\n",
      "173 is prime\n",
      "179 is prime\n",
      "181 is prime\n",
      "191 is prime\n",
      "193 is prime\n",
      "197 is prime\n",
      "199 is prime\n"
     ]
    }
   ],
   "source": [
    "'''4. Write a Python function that checks if a given number is prime or not from 1 to 200.'''\n",
    "\n",
    "def is_prime(n):\n",
    "    if n < 2:  # 0 and 1 are not prime\n",
    "        return False\n",
    "    for i in range(2, int(n**0.5) + 1):  # check divisors up to √n\n",
    "        if n % i == 0:\n",
    "            return False\n",
    "    return True\n",
    "\n",
    "# Example: Check primes from 1 to 200\n",
    "for num in range(1, 201):\n",
    "    if is_prime(num):\n",
    "        print(num, \"is prime\")\n"
   ]
  },
  {
   "cell_type": "code",
   "execution_count": 12,
   "id": "5c550de9-8ac5-49a7-8066-c3ee68057346",
   "metadata": {},
   "outputs": [
    {
     "name": "stdout",
     "output_type": "stream",
     "text": [
      "0 1 1 2 3 5 8 13 21 34 "
     ]
    }
   ],
   "source": [
    "'''5. Create an iterator class in Python that generates the Fibonacci sequence up to a specified number of\n",
    "terms.'''\n",
    "\n",
    "class Fibonacci:\n",
    "    def __init__(self, n_terms):\n",
    "        self.n_terms = n_terms\n",
    "        self.count = 0\n",
    "        self.a, self.b = 0, 1  # first two Fibonacci numbers\n",
    "\n",
    "    def __iter__(self):\n",
    "        return self\n",
    "\n",
    "    def __next__(self):\n",
    "        if self.count >= self.n_terms:\n",
    "            raise StopIteration\n",
    "        if self.count == 0:\n",
    "            self.count += 1\n",
    "            return self.a\n",
    "        elif self.count == 1:\n",
    "            self.count += 1\n",
    "            return self.b\n",
    "        else:\n",
    "            self.a, self.b = self.b, self.a + self.b\n",
    "            self.count += 1\n",
    "            return self.b\n",
    "\n",
    "# Example usage\n",
    "fib = Fibonacci(10)  # first 10 Fibonacci numbers\n",
    "for num in fib:\n",
    "    print(num, end=\" \")\n",
    "\n",
    "\n"
   ]
  },
  {
   "cell_type": "code",
   "execution_count": 13,
   "id": "dee89882-628f-48bc-9962-f12a579f7360",
   "metadata": {},
   "outputs": [
    {
     "name": "stdout",
     "output_type": "stream",
     "text": [
      "1\n",
      "2\n",
      "4\n",
      "8\n",
      "16\n",
      "32\n"
     ]
    }
   ],
   "source": [
    "'''6. Write a generator function in Python that yields the powers of 2 up to a given exponent'''\n",
    "def powers_of_two(n):\n",
    "    for i in range(n + 1):\n",
    "        yield 2 ** i\n",
    "\n",
    "# Example usage:\n",
    "for power in powers_of_two(5):\n",
    "    print(power)\n"
   ]
  },
  {
   "cell_type": "code",
   "execution_count": 21,
   "id": "eef68433-e925-4a5e-84f3-3cc786cff4ed",
   "metadata": {},
   "outputs": [
    {
     "name": "stdout",
     "output_type": "stream",
     "text": [
      "This is some sample text\n",
      "for the file.\n"
     ]
    }
   ],
   "source": [
    "'''7. Implement a generator function that reads a file line by line and yields each line as a string'''\n",
    "\n",
    "import os\n",
    "\n",
    "# Option 1: Create the file if it doesn't exist\n",
    "with open('myfile.txt', 'w') as f:\n",
    "    f.write(\"This is some sample text\\nfor the file.\")\n",
    "\n",
    "# Option 2: Use a try-except block to handle the error gracefully\n",
    "def read_lines(filename):\n",
    "    try:\n",
    "        with open(filename, 'r') as f:\n",
    "            return f.readlines()\n",
    "    except FileNotFoundError:\n",
    "        print(f\"Error: The file '{filename}' was not found.\")\n",
    "        return []  # Return empty list if file not found\n",
    "\n",
    "# Now read the file\n",
    "for line in read_lines('myfile.txt'):\n",
    "    print(line.strip())  # strip() removes trailing newlines"
   ]
  },
  {
   "cell_type": "code",
   "execution_count": 22,
   "id": "084bf21e-36f8-4e16-bc82-799e8e5d74cc",
   "metadata": {},
   "outputs": [
    {
     "name": "stdout",
     "output_type": "stream",
     "text": [
      "Original list: [(1, 5), (3, 2), (7, 8), (5, 1), (4, 4)]\n",
      "Sorted list (by second element): [(5, 1), (3, 2), (4, 4), (1, 5), (7, 8)]\n"
     ]
    }
   ],
   "source": [
    "'''8. Use a lambda function in Python to sort a list of tuples based on the second element of each tuple.'''\n",
    "\n",
    "# Create a sample list of tuples\n",
    "tuples_list = [(1, 5), (3, 2), (7, 8), (5, 1), (4, 4)]\n",
    "\n",
    "# Sort the list based on the second element of each tuple using a lambda function\n",
    "sorted_list = sorted(tuples_list, key=lambda x: x[1])\n",
    "\n",
    "# Print the original and sorted lists\n",
    "print(\"Original list:\", tuples_list)\n",
    "print(\"Sorted list (by second element):\", sorted_list)"
   ]
  },
  {
   "cell_type": "code",
   "execution_count": 26,
   "id": "a8143c1b-7b01-447c-9da7-b9942d358fc8",
   "metadata": {},
   "outputs": [
    {
     "name": "stdout",
     "output_type": "stream",
     "text": [
      "Celsius temperatures: [0, 10, 20, 30, 40, 100]\n",
      "Fahrenheit temperatures: [32.0, 50.0, 68.0, 86.0, 104.0, 212.0]\n"
     ]
    }
   ],
   "source": [
    "'''9. Write a Python program that uses `map()` to convert a list of temperatures from Celsius to Fahrenheit.'''\n",
    "# Define a function to convert Celsius to Fahrenheit\n",
    "def celsius_to_fahrenheit(celsius):\n",
    "    return (celsius * 9/5) + 32\n",
    "\n",
    "# Create a list of temperatures in Celsius\n",
    "celsius_temps = [0, 10, 20, 30, 40, 100]\n",
    "\n",
    "# Use map() to convert all temperatures to Fahrenheit\n",
    "fahrenheit_temps = list(map(celsius_to_fahrenheit, celsius_temps))\n",
    "\n",
    "# Print both lists\n",
    "print(\"Celsius temperatures:\", celsius_temps)\n",
    "print(\"Fahrenheit temperatures:\", fahrenheit_temps)\n"
   ]
  },
  {
   "cell_type": "code",
   "execution_count": 25,
   "id": "54a25a93-af48-4747-b248-3a47455d630a",
   "metadata": {},
   "outputs": [
    {
     "name": "stdout",
     "output_type": "stream",
     "text": [
      "Original: Programming is fun!\n",
      "Without vowels: Prgrmmng s fn!\n"
     ]
    }
   ],
   "source": [
    "'''10. Create a Python program that uses `filter()` to remove all the vowels from a given string.'''\n",
    "def remove_vowels(text):\n",
    "    vowels = \"aeiouAEIOU\"\n",
    "    return \"\".join(filter(lambda mn: mn not in vowels, text))\n",
    "\n",
    "# Example usage\n",
    "string = \"Programming is fun!\"\n",
    "print(\"Original:\", string)\n",
    "print(\"Without vowels:\", remove_vowels(string))\n",
    "\n"
   ]
  },
  {
   "cell_type": "code",
   "execution_count": 27,
   "id": "43a28f66-a838-46b7-9773-241633e5809e",
   "metadata": {},
   "outputs": [
    {
     "name": "stdout",
     "output_type": "stream",
     "text": [
      "[(34587, 163.8), (99762, 284.0), (77226, 108.85000000000001), (88112, 84.97)]\n"
     ]
    }
   ],
   "source": [
    "'''11) Imagine an accounting routine used in a book shop. It works on a list with sublists, which look like this:\n",
    "order number  book title and author                    quantity        price per item\n",
    "34587         leraning python ,mark lutz                 4                 40.95\n",
    "98762         programming python , mark lutz             5                 56.80\n",
    "77226         head first python ,paul barry              3                 32.95\n",
    "88112         einfuhrung in python 3,bernd klein         3                 24.99\n",
    "\n",
    "Write a Python program, which returns a list with 2-tuples. Each tuple consists of the order number and the\n",
    "product of the price per item and the quantity. The product should be increased by 10,- € if the value of the\n",
    "order is smaller than 100,00 €.\n",
    "\n",
    "Write a Python program using lambda and map.'''\n",
    "\n",
    "# Input data as list of sublists\n",
    "orders = [\n",
    "    [34587, \"Learning Python, Mark Lutz\", 4, 40.95],\n",
    "    [99762, \"Programming Python, Mark Lutz\", 5, 56.80],\n",
    "    [77226, \"Head First Python, Paul Barry\", 3, 32.95],\n",
    "    [88112, \"Einführung in Python3, Bernd Klein\", 3, 24.99]\n",
    "]\n",
    "\n",
    "# Use lambda and map to process the orders\n",
    "result = list(map(\n",
    "    lambda order: (\n",
    "        order[0],\n",
    "        order[2] * order[3] if order[2] * order[3] >= 100 else order[2] * order[3] + 10\n",
    "    ),\n",
    "    orders\n",
    "))\n",
    "\n",
    "print(result)"
   ]
  },
  {
   "cell_type": "code",
   "execution_count": null,
   "id": "055b2644-cabc-478d-80b8-18f5c25a8892",
   "metadata": {},
   "outputs": [],
   "source": []
  }
 ],
 "metadata": {
  "kernelspec": {
   "display_name": "Python [conda env:base] *",
   "language": "python",
   "name": "conda-base-py"
  },
  "language_info": {
   "codemirror_mode": {
    "name": "ipython",
    "version": 3
   },
   "file_extension": ".py",
   "mimetype": "text/x-python",
   "name": "python",
   "nbconvert_exporter": "python",
   "pygments_lexer": "ipython3",
   "version": "3.13.5"
  }
 },
 "nbformat": 4,
 "nbformat_minor": 5
}
