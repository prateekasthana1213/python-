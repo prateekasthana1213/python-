{
 "cells": [
  {
   "cell_type": "markdown",
   "id": "1cb00179-1eed-419e-82b6-4865b7f55b4a",
   "metadata": {},
   "source": [
    "Python Basics Questions"
   ]
  },
  {
   "cell_type": "raw",
   "id": "0dbfed61-f051-4921-9513-87d7ff019486",
   "metadata": {},
   "source": [
    "1- What is Python, and why is it popular ?"
   ]
  },
  {
   "cell_type": "raw",
   "id": "7c6ea703-7bfb-4492-be7a-6e881c5b097b",
   "metadata": {},
   "source": [
    "ans-Python is a high-level, general-purpose programming language known for its simplicity, readability, and versatility.\n",
    "It was created by Guido van Rossum and released in 1991—and today, it powers everything from Netflix recommendations to self-driving cars.\n",
    "🐍 What Makes Python Special\n",
    "- Easy to Learn: Its syntax is clean and intuitive, making it ideal for beginners.\n",
    "- Versatile: Used in web development, data science, automation, artificial intelligence, and more.\n",
    "- Huge Ecosystem: Thousands of libraries like NumPy, Pandas, TensorFlow, and Django make complex tasks easier.\n",
    "- Cross-Platform & Open Source: Runs on Windows, macOS, Linux, and is free to use and modify.\n",
    "- Strong Community: Millions of developers contribute tutorials, tools, and support.\n",
    "\n",
    "\n",
    "\n",
    "\n",
    "\n",
    "\n"
   ]
  },
  {
   "cell_type": "raw",
   "id": "bb03fb83-a5b1-4cfa-9607-e33846b29259",
   "metadata": {},
   "source": [
    "2-What is an interpreter in Python ?"
   ]
  },
  {
   "cell_type": "raw",
   "id": "4e901de6-8503-437d-a9e1-f32e8d54b78d",
   "metadata": {},
   "source": [
    "ans- Python, an interpreter is the program that reads and executes your code line by line.\n",
    "It’s what makes Python an interpreted language, unlike compiled languages like C or Java.\n"
   ]
  },
  {
   "cell_type": "raw",
   "id": "ec05563a-968d-44e7-9836-80ddb9c70cf9",
   "metadata": {},
   "source": [
    "3-What are pre-defined keywords in Python ?\n",
    "ans-In Python, predefined keywords (also called reserved words) are special words that have fixed meanings in the language. You cannot use them as variable names, function names, or identifiers, because they define the structure and logic of your code.\n",
    " Python Keywords\n",
    "They are built into the language and used to:\n",
    "- Control flow (if, else, for, while)\n",
    "- Define functions and classes (def, class, return)\n",
    "- Handle exceptions (try, except, finally)\n",
    "- Manage scope (global, nonlocal)\n",
    "- Work with logic (and, or, not, is, in)\n"
   ]
  },
  {
   "cell_type": "code",
   "execution_count": 3,
   "id": "0506359a-0366-4b09-8d79-0e75c26694d6",
   "metadata": {},
   "outputs": [
    {
     "name": "stdout",
     "output_type": "stream",
     "text": [
      "['False', 'None', 'True', 'and', 'as', 'assert', 'async', 'await', 'break', 'class', 'continue', 'def', 'del', 'elif', 'else', 'except', 'finally', 'for', 'from', 'global', 'if', 'import', 'in', 'is', 'lambda', 'nonlocal', 'not', 'or', 'pass', 'raise', 'return', 'try', 'while', 'with', 'yield']\n"
     ]
    }
   ],
   "source": [
    "import keyword\n",
    "print(keyword.kwlist)"
   ]
  },
  {
   "cell_type": "raw",
   "id": "2df78a7d-d7c9-431b-bfd1-5d72692a277c",
   "metadata": {},
   "source": [
    "4-Can keywords be used as variable names ?\n",
    "ans-keywords cannot be used as variable names in Python. They’re reserved for specific functions and syntax rules in the language, so trying to use them as variable names will cause a SyntaxError.\n"
   ]
  },
  {
   "cell_type": "raw",
   "id": "e47958a0-fcad-4af7-82f0-bb24c313a284",
   "metadata": {},
   "source": [
    "5-What is mutability in Python ?\n",
    "ans-Mutability in Python refers to whether an object’s internal state can be changed after it’s created. It’s a key concept that affects how variables behave, especially when passed into functions or stored in collection.\n"
   ]
  },
  {
   "cell_type": "raw",
   "id": "d93159af-684c-4876-925e-9dcb528d69ee",
   "metadata": {},
   "source": [
    "6-Why are lists mutable, but tuples are immutable ?\n",
    "ans-ists are meant to be flexible containers. You can:\n",
    "- Add, remove, or change elements\n",
    "- Resize them dynamically\n",
    "- Use them for tasks like sorting, filtering, or building sequences\n",
    "This mutability makes lists perfect for situations where data changes frequently — like storing user inputs, processing files, or managing dynamic datasets.\n",
    "my_list = [1, 2, 3]\n",
    "my_list[0] = 99  # ✅ Works fine\n",
    "my_list=[99,2,3]\n",
    "\n",
    "--- Why Tuples Are Immutable\n",
    "Tuples are designed for fixed collections of items — like coordinates, RGB values, or database keys. Once created, their contents cannot be changed, which offers:\n",
    "- Safety: You know the data won’t be accidentally modified\n",
    "- Hashability: Tuples can be used as dictionary keys or set elements\n",
    "- Performance: Slightly faster than lists due to their fixed size\n",
    "my_tuple = (1, 2, 3)\n",
    "my_tuple[0] = 99  # ❌ TypeError: 'tuple' object does not support item ."
   ]
  },
  {
   "cell_type": "raw",
   "id": "7ee3bb09-b445-40ef-8715-acb3e88f39b2",
   "metadata": {},
   "source": [
    "7-What is the difference between “==” and “is” operators in Python ?\n",
    "ans- Equality operator\n",
    "\n",
    "Checks value equality → whether two objects have the same content.\n",
    "example:"
   ]
  },
  {
   "cell_type": "code",
   "execution_count": 5,
   "id": "c8f9c0d7-a934-4a27-a682-5c7f70d4bbae",
   "metadata": {},
   "outputs": [
    {
     "data": {
      "text/plain": [
       "True"
      ]
     },
     "execution_count": 5,
     "metadata": {},
     "output_type": "execute_result"
    }
   ],
   "source": [
    "a=[1,2,3]\n",
    "b=[1,2,3]\n",
    "a==b"
   ]
  },
  {
   "cell_type": "raw",
   "id": "4e551db7-0e5b-49f1-917a-15409c163377",
   "metadata": {},
   "source": [
    "Identity operator\n",
    "\n",
    "Checks object identity → whether two variables point to the same object in memory.\n",
    "\n",
    "Example:"
   ]
  },
  {
   "cell_type": "code",
   "execution_count": 2,
   "id": "41852676-5f43-4efe-bad2-a8e69bf3e5bb",
   "metadata": {},
   "outputs": [
    {
     "data": {
      "text/plain": [
       "False"
      ]
     },
     "execution_count": 2,
     "metadata": {},
     "output_type": "execute_result"
    }
   ],
   "source": [
    "a=[1,2,3]\n",
    "b=[1,2,3]\n",
    "a is b"
   ]
  },
  {
   "cell_type": "raw",
   "id": "0e5b3db7-678b-4935-9f43-ab4a7fc72a49",
   "metadata": {},
   "source": [
    "8- What are logical operators in Python ?\n",
    "ans-n Python, logical operators are used to combine or manipulate Boolean values (True / False).\n",
    "\n",
    "There are three main logical operators:\n",
    "\n",
    "1. and\n",
    "Returns True if both conditions are true.\n",
    "2. or\n",
    "Returns True if at least one condition is true.\n",
    "3.not\n",
    "Reverses the Boolean value."
   ]
  },
  {
   "cell_type": "raw",
   "id": "d3905ef9-8e42-40ab-8760-371c5afa94b6",
   "metadata": {},
   "source": [
    "9-What is type casting in Python ?\n",
    "ans-Type casting (or type conversion) means changing one data type into another.\n",
    "\n",
    "Two types of type casting:\n",
    "1. Implicit Type Casting (Type Conversion)\n",
    "Done automatically by Python.\n",
    "Converts smaller data type → larger data type (to avoid data loss).\n",
    "2. Explicit Type Casting (Type Casting)\n",
    "\n",
    "Done manually using built-in functions.\n",
    "\n",
    "Common functions:\n",
    "\n",
    "int() → converts to integer\n",
    "\n",
    "float() → converts to float\n",
    "\n",
    "str() → converts to string\n",
    "\n",
    "bool() → converts to Boolean\n",
    "\n",
    "list(), tuple(), set() → for collection types"
   ]
  },
  {
   "cell_type": "raw",
   "id": "e8b98dbb-09cd-4c89-a2b4-4824ab9c2af1",
   "metadata": {},
   "source": [
    "10-What is the difference between implicit and explicit type casting ?\n",
    "ans-Implicit Type Casting (Type Conversion)\n",
    "--Done automatically by Python.\n",
    "--Converts a smaller data type → larger data type (to avoid data loss).\n",
    "--Programmer doesn’t need to do anything.\n",
    "\n",
    "Example:\n",
    "x = 5      # int\n",
    "y = 2.5    # float\n",
    "z = x + y  # int gets converted to float automatically\n",
    "print(z)   # 7.5\n",
    "print(type(z))  # <class 'float'>\n",
    "🔹 Explicit Type Casting (Type Casting)\n",
    "\n",
    "Done manually by the programmer using functions like int(), float(), str(), etc.\n",
    "--Useful when you want to forcefully change the type.\n",
    "Example:\n",
    "a = \"123\"      # string\n",
    "b = int(a)     # explicitly converting str → int\n",
    "print(b, type(b))  # 123 <class 'int'>"
   ]
  },
  {
   "cell_type": "raw",
   "id": "98fbed9e-3ea3-4b04-b735-f97810c5856b",
   "metadata": {},
   "source": [
    "11-What is the purpose of conditional statements in Python ?\n",
    "ans-Purpose of Conditional Statements in Python\n",
    "\n",
    "The main purpose of conditional statements is to let a program make decisions and execute different code blocks based on conditions.\n",
    "In simple words → they allow your program to \"think\" and choose what to do depending on whether a condition is True or False.\n",
    "✅ Why they are used:\n",
    "\n",
    "-Control the flow of a program\n",
    "-Without conditions, a program would just run line by line.\n",
    "-With conditions, it can take different paths.\n",
    "-Decision making\n",
    "-Perform certain actions only when specific conditions are met.\n",
    "-Handle multiple scenarios\n",
    "-Different code executes for different inputs."
   ]
  },
  {
   "cell_type": "raw",
   "id": "9d03286e-c774-4bf6-b2e1-a8c94ed24d20",
   "metadata": {},
   "source": [
    "12-8 How does the elif statement work ?\n",
    "ans-In Python, elif (short for else if) is used in conditional statements when you need to check multiple conditions.\n",
    "\n",
    "🔹 Purpose of elif:\n",
    "\n",
    "To test more than one condition.\n",
    "\n",
    "Used after if and before else.\n",
    "\n",
    "Helps avoid writing multiple nested if statements."
   ]
  },
  {
   "cell_type": "raw",
   "id": "f94a8fa7-5ffd-457a-83ed-3985b1456b55",
   "metadata": {},
   "source": [
    "13-What is the difference between for and while loops ?\n",
    "ans-🔹 For Loop\n",
    "\n",
    "Used when you know how many times you want to repeat something.\n",
    "\n",
    "Iterates over a sequence (like list, string, range).\n",
    "\n",
    "Automatically stops after finishing the sequence.\n",
    "\n",
    "✅ Example:\n",
    "\n",
    "for i in range(5):   # repeats 5 times\n",
    "    print(i)\n",
    "\n",
    "👉 Output: 0 1 2 3 4\n",
    "\n",
    "🔹 While Loop\n",
    "Used when you don’t know in advance how many times to repeat.\n",
    "Runs as long as the condition is True.\n",
    "You must update the condition inside the loop, otherwise it may run forever.\n",
    "\n",
    "✅ Example:\n",
    "x = 0\n",
    "while x < 5:   # runs until condition becomes False\n",
    "    print(x)\n",
    "    x += 1\n",
    "👉 Output: 0 1 2 3 4"
   ]
  },
  {
   "cell_type": "raw",
   "id": "497dd70e-c955-4097-8963-0708a1bcca8f",
   "metadata": {},
   "source": [
    "14-Describe a scenario where a while loop is more suitable than a for loop.\n",
    "ans-🔹 Scenario: ATM PIN verification\n",
    "\n",
    "You don’t know in advance how many times a user will enter their PIN. You just keep asking until they enter the correct one (or max attempts reached).\n",
    "\n",
    "✅ Example:\n",
    "\n",
    "correct_pin = \"1234\"\n",
    "attempts = 0\n",
    "\n",
    "entered_pin = input(\"Enter PIN: \")\n",
    "while entered_pin != correct_pin and attempts < 2:\n",
    "    print(\"Incorrect PIN, try again.\")\n",
    "    attempts += 1\n",
    "    entered_pin = input(\"Enter PIN: \")\n",
    "\n",
    "if entered_pin == correct_pin:\n",
    "    print(\"Access granted ✅\")\n",
    "else:\n",
    "    print(\"Card blocked ❌\")\n",
    "\n",
    "\n",
    "👉 Here:\n",
    "\n",
    "A while loop is more suitable because we don’t know how many attempts it will take to enter the correct PIN.\n",
    "\n",
    "A for loop wouldn’t be ideal, since it usually runs for a fixed number of iterations."
   ]
  },
  {
   "cell_type": "code",
   "execution_count": 7,
   "id": "9a5e14e2-a96e-4d42-a55a-4054d3e67f9c",
   "metadata": {},
   "outputs": [
    {
     "name": "stdin",
     "output_type": "stream",
     "text": [
      "Enter PIN:  2545646464\n"
     ]
    },
    {
     "name": "stdout",
     "output_type": "stream",
     "text": [
      "Incorrect PIN, try again.\n"
     ]
    },
    {
     "name": "stdin",
     "output_type": "stream",
     "text": [
      "Enter PIN:  4545\n"
     ]
    },
    {
     "name": "stdout",
     "output_type": "stream",
     "text": [
      "Incorrect PIN, try again.\n"
     ]
    },
    {
     "name": "stdin",
     "output_type": "stream",
     "text": [
      "Enter PIN:  6464\n"
     ]
    },
    {
     "name": "stdout",
     "output_type": "stream",
     "text": [
      "Card blocked\n"
     ]
    }
   ],
   "source": [
    "correct_pin = \"1234\"\n",
    "attempts = 0\n",
    "\n",
    "entered_pin = input(\"Enter PIN: \")\n",
    "while entered_pin != correct_pin and attempts < 2:\n",
    "    print(\"Incorrect PIN, try again.\")\n",
    "    attempts += 1\n",
    "    entered_pin = input(\"Enter PIN: \")\n",
    "    if entered_pin == correct_pin:\n",
    "        print(\"Access granted\")\n",
    "else:\n",
    "    print(\"Card blocked\")"
   ]
  },
  {
   "cell_type": "markdown",
   "id": "e1d8e082-9bc5-4f3a-aab4-200ec6f6e1aa",
   "metadata": {},
   "source": [
    "Practical Questions"
   ]
  },
  {
   "cell_type": "raw",
   "id": "6266b73b-f06b-4c77-89a7-6807999bf431",
   "metadata": {},
   "source": [
    "1- Write a Python program to print \"Hello, World'"
   ]
  },
  {
   "cell_type": "code",
   "execution_count": 10,
   "id": "67f055ea-c968-47fe-be28-7656e12d639b",
   "metadata": {},
   "outputs": [
    {
     "name": "stdout",
     "output_type": "stream",
     "text": [
      "Hello, world\n"
     ]
    }
   ],
   "source": [
    "print('Hello, world')"
   ]
  },
  {
   "cell_type": "raw",
   "id": "d2293c07-c43d-4de1-87f6-daf6cf2b472e",
   "metadata": {},
   "source": [
    "2- Write a Python program that displays your name and age?"
   ]
  },
  {
   "cell_type": "code",
   "execution_count": 11,
   "id": "5ccdfaaf-52eb-474c-86a2-9472ca675d1d",
   "metadata": {},
   "outputs": [
    {
     "name": "stdout",
     "output_type": "stream",
     "text": [
      "My name is Prateek Asthana\n",
      "I am 23 years old\n"
     ]
    }
   ],
   "source": [
    "name = \"Prateek Asthana\"   \n",
    "age = 23                 \n",
    "\n",
    "print(\"My name is\", name)\n",
    "print(\"I am\", age, \"years old\")"
   ]
  },
  {
   "cell_type": "raw",
   "id": "ac11fa1f-773a-4d61-94e3-81828b6e4484",
   "metadata": {},
   "source": [
    "3- Write code to print all the pre-defined keywords in Python using the keyword library?\n"
   ]
  },
  {
   "cell_type": "code",
   "execution_count": 14,
   "id": "ed5d522f-a488-414f-84f5-36aa49eb13d8",
   "metadata": {},
   "outputs": [
    {
     "name": "stdout",
     "output_type": "stream",
     "text": [
      "['False', 'None', 'True', 'and', 'as', 'assert', 'async', 'await', 'break', 'class', 'continue', 'def', 'del', 'elif', 'else', 'except', 'finally', 'for', 'from', 'global', 'if', 'import', 'in', 'is', 'lambda', 'nonlocal', 'not', 'or', 'pass', 'raise', 'return', 'try', 'while', 'with', 'yield']\n"
     ]
    }
   ],
   "source": [
    "import keyword\n",
    "print(keyword.kwlist)"
   ]
  },
  {
   "cell_type": "raw",
   "id": "0e7ad1cc-fc1e-4ec1-b88a-4803afe8f864",
   "metadata": {},
   "source": [
    "4- Write a program that checks if a given word is a Python keyword."
   ]
  },
  {
   "cell_type": "code",
   "execution_count": 21,
   "id": "4b115c44-c863-457b-bf8a-97c63f80896d",
   "metadata": {},
   "outputs": [
    {
     "name": "stdin",
     "output_type": "stream",
     "text": [
      "Enter a word to check:  else\n"
     ]
    },
    {
     "name": "stdout",
     "output_type": "stream",
     "text": [
      "'(word)'is a python keyword\n"
     ]
    }
   ],
   "source": [
    "import keyword\n",
    "def is_python_keyword(word):\n",
    "    if keyword.iskeyword(word):\n",
    "        print(f\"'(word)'is a python keyword\")\n",
    "    else:\n",
    "        print(f\"'(word)' is not a Python keyword\")\n",
    "word_to_check = input(\"Enter a word to check: \")\n",
    "is_python_keyword(word_to_check)"
   ]
  },
  {
   "cell_type": "raw",
   "id": "8655394d-f3d4-48a6-ac96-ba16fd62bb30",
   "metadata": {},
   "source": [
    "5- Create a list and tuple in Python, and demonstrate how attempting to change an element works differentlyfor each?"
   ]
  },
  {
   "cell_type": "code",
   "execution_count": 1,
   "id": "748a8339-08ab-4553-953a-9d104ca729b7",
   "metadata": {},
   "outputs": [
    {
     "name": "stdout",
     "output_type": "stream",
     "text": [
      "Original list: [1, 2, 3, 4, 5]\n",
      "Original tuple: (1, 2, 3, 4, 5)\n",
      "Modified list: [1, 2, 10, 4, 5]\n",
      "Error when modifying tuple: 'tuple' object does not support item assignment\n",
      "\n",
      "Additional operations:\n",
      "List after append: [1, 2, 10, 4, 5, 6]\n"
     ]
    }
   ],
   "source": [
    "my_list = [1, 2, 3, 4, 5]\n",
    "my_tuple = (1, 2, 3, 4, 5)\n",
    "\n",
    "print(\"Original list:\", my_list)\n",
    "print(\"Original tuple:\", my_tuple)\n",
    "\n",
    "# Modifying an element in the list (this works fine)\n",
    "my_list[2] = 10\n",
    "print(\"Modified list:\", my_list)  # Output: [1, 2, 10, 4, 5]\n",
    "\n",
    "# Attempting to modify an element in the tuple \n",
    "try:\n",
    "    my_tuple[2] = 10\n",
    "    print(\"Modified tuple:\", my_tuple)\n",
    "except TypeError as e:\n",
    "    print(f\"Error when modifying tuple: {e}\")  # Output: Error when modifying tuple: 'tuple' object does not support item assignment\n",
    "\n",
    "# Other operations that work with lists but not with tuples\n",
    "print(\"\\nAdditional operations:\")\n",
    "my_list.append(6)  # Adding an element to a list\n",
    "print(\"List after append:\", my_list)\n",
    "new_tuple = my_tuple + (6,)"
   ]
  },
  {
   "cell_type": "raw",
   "id": "1f78522b-cc7e-4a70-b37a-98a9b4f43418",
   "metadata": {},
   "source": [
    "6-Write a function to demonstrate the behavior of mutable and immutable arguments"
   ]
  },
  {
   "cell_type": "code",
   "execution_count": 2,
   "id": "ee2e4e4d-dbdf-4e0f-a877-132dde012142",
   "metadata": {},
   "outputs": [
    {
     "name": "stdout",
     "output_type": "stream",
     "text": [
      "Before function call:\n",
      "x: 5 y: [1, 2, 3]\n",
      "Inside function before modification:\n",
      "a: 5 b: [1, 2, 3]\n",
      "Inside function after modification:\n",
      "a: 15 b: [1, 2, 3, 10]\n",
      "After function call:\n",
      "x: 5 y: [1, 2, 3, 10]\n"
     ]
    }
   ],
   "source": [
    "def modify_values(a, b):\n",
    "    # a is immutable (int), b is mutable (list)\n",
    "    print(\"Inside function before modification:\")\n",
    "    print(\"a:\", a, \"b:\", b)\n",
    "\n",
    "    a = a + 10        # creates a new int object \n",
    "    b.append(10)      # modifies the list in place\n",
    "\n",
    "    print(\"Inside function after modification:\")\n",
    "    print(\"a:\", a, \"b:\", b)\n",
    "\n",
    "\n",
    "# Immutable argument\n",
    "x = 5\n",
    "# Mutable argument\n",
    "y = [1, 2, 3]\n",
    "\n",
    "print(\"Before function call:\")\n",
    "print(\"x:\", x, \"y:\", y)\n",
    "\n",
    "modify_values(x, y)\n",
    "\n",
    "print(\"After function call:\")\n",
    "print(\"x:\", x, \"y:\", y)\n"
   ]
  },
  {
   "cell_type": "raw",
   "id": "681d9e90-3f73-4112-b458-e45fbca86630",
   "metadata": {},
   "source": [
    "7-Write a program that performs basic arithmetic operations on two user-input numbers.\n",
    "\n"
   ]
  },
  {
   "cell_type": "code",
   "execution_count": 4,
   "id": "3e9a8521-7018-40cc-84d7-7af5ff343951",
   "metadata": {},
   "outputs": [
    {
     "name": "stdin",
     "output_type": "stream",
     "text": [
      "Enter the first number:  45\n",
      "Enter the second number:  55\n"
     ]
    },
    {
     "name": "stdout",
     "output_type": "stream",
     "text": [
      "Results:\n",
      "Addition: 100.0\n",
      "Subtraction: -10.0\n",
      "Multiplication: 2475.0\n",
      "Division: 0.8181818181818182\n"
     ]
    }
   ],
   "source": [
    "# Program to perform basic arithmetic operations on two numbers\n",
    "\n",
    "# Taking user input\n",
    "num1 = float(input(\"Enter the first number: \"))\n",
    "num2 = float(input(\"Enter the second number: \"))\n",
    "\n",
    "# Performing operations\n",
    "addition = num1 + num2\n",
    "subtraction = num1 - num2\n",
    "multiplication = num1 * num2\n",
    "\n",
    "# To avoid division by zero\n",
    "if num2 != 0:\n",
    "    division = num1 / num2\n",
    "else:\n",
    "    division = \"Undefined (cannot divide by zero)\"\n",
    "\n",
    "# Displaying results\n",
    "print(\"Results:\")\n",
    "print(\"Addition:\", addition)\n",
    "print(\"Subtraction:\", subtraction)\n",
    "print(\"Multiplication:\", multiplication)\n",
    "print(\"Division:\", division)\n"
   ]
  },
  {
   "cell_type": "raw",
   "id": "f55354e5-0eda-4f6a-bbfd-5f0da6a92264",
   "metadata": {},
   "source": [
    "8-Write a program to demonstrate the use of logical operators"
   ]
  },
  {
   "cell_type": "code",
   "execution_count": 5,
   "id": "a5bcd8db-c25d-4b30-bd9c-4f445ffdca2f",
   "metadata": {},
   "outputs": [
    {
     "name": "stdin",
     "output_type": "stream",
     "text": [
      "Enter first number:  58\n",
      "Enter second number:  47\n"
     ]
    },
    {
     "name": "stdout",
     "output_type": "stream",
     "text": [
      "Demonstrating Logical Operators:\n",
      "(a > 0) and (b > 0): True\n",
      "(a > 0) or (b > 0): True\n",
      "not(a > 0): False\n",
      "not(b > 0): False\n"
     ]
    }
   ],
   "source": [
    "# Program to demonstrate logical operators in Python\n",
    "\n",
    "a = int(input(\"Enter first number: \"))\n",
    "b = int(input(\"Enter second number: \"))\n",
    "\n",
    "print(\"Demonstrating Logical Operators:\")\n",
    "\n",
    "# and operator\n",
    "print(f\"(a > 0) and (b > 0): {(a > 0) and (b > 0)}\")\n",
    "\n",
    "# or operator\n",
    "print(f\"(a > 0) or (b > 0): {(a > 0) or (b > 0)}\")\n",
    "\n",
    "# not operator\n",
    "print(f\"not(a > 0): {not(a > 0)}\")\n",
    "print(f\"not(b > 0): {not(b > 0)}\")\n"
   ]
  },
  {
   "cell_type": "raw",
   "id": "dd0031cf-5eff-40b1-b364-e5183a79fce2",
   "metadata": {},
   "source": [
    "9- Write a Python program to convert user input from string to integer, float, and boolean types?"
   ]
  },
  {
   "cell_type": "code",
   "execution_count": 1,
   "id": "5ca815a2-c8fe-4b5a-a60e-c0c55851cfcc",
   "metadata": {},
   "outputs": [
    {
     "name": "stdin",
     "output_type": "stream",
     "text": [
      "Enter a value:  45\n"
     ]
    },
    {
     "name": "stdout",
     "output_type": "stream",
     "text": [
      "Integer value: 45\n",
      "Float value: 45.0\n",
      "Boolean value: True\n"
     ]
    }
   ],
   "source": [
    "# Program to convert user input into int, float, and boolean\n",
    "\n",
    "# Taking input from user as a string\n",
    "user_input = input(\"Enter a value: \")\n",
    "\n",
    "# Convert to integer\n",
    "try:\n",
    "    int_value = int(user_input)\n",
    "    print(\"Integer value:\", int_value)\n",
    "except ValueError:\n",
    "    print(\"Cannot convert to integer.\")\n",
    "\n",
    "# Convert to float\n",
    "try:\n",
    "    float_value = float(user_input)\n",
    "    print(\"Float value:\", float_value)\n",
    "except ValueError:\n",
    "    print(\"Cannot convert to float.\")\n",
    "\n",
    "# Convert to boolean\n",
    "# In Python, bool(\"\") -> False, but any non-empty string -> True\n",
    "bool_value = bool(user_input)\n",
    "print(\"Boolean value:\", bool_value)\n"
   ]
  },
  {
   "cell_type": "raw",
   "id": "baca2762-ac6b-4be7-84ef-45746c40b34f",
   "metadata": {},
   "source": [
    "10- Write code to demonstrate type casting with list elements."
   ]
  },
  {
   "cell_type": "code",
   "execution_count": 4,
   "id": "28957064-5c1a-4aa4-b5db-677d785739fb",
   "metadata": {},
   "outputs": [
    {
     "name": "stdout",
     "output_type": "stream",
     "text": [
      "Original list: ['10', '20.5', '30', '40.8', '50']\n",
      "Converted to integers: [10, 20, 30, 40, 50]\n",
      "Converted to floats: [10.0, 20.5, 30.0, 40.8, 50.0]\n",
      "Numbers converted to strings: ['10', '20', '30', '40', '50']\n",
      "Converted to boolean: [True, True, True, True, True]\n"
     ]
    }
   ],
   "source": [
    "# Create a list with mixed data types\n",
    "mixed_list = ['10', '20.5', '30', '40.8', '50']\n",
    "print(\"Original list:\", mixed_list)\n",
    "\n",
    "# Convert strings to integers \n",
    "int_list = [int(float(x)) for x in mixed_list]\n",
    "print(\"Converted to integers:\", int_list)\n",
    "\n",
    "# Convert strings to floats\n",
    "float_list = [float(x) for x in mixed_list]\n",
    "print(\"Converted to floats:\", float_list)\n",
    "\n",
    "# Convert numbers to strings\n",
    "num_list = [10, 20, 30, 40, 50]\n",
    "str_list = [str(x) for x in num_list]\n",
    "print(\"Numbers converted to strings:\", str_list)\n",
    "\n",
    "# Convert to boolean\n",
    "bool_list = [bool(int (float(x))) for x in mixed_list]\n",
    "print(\"Converted to boolean:\", bool_list)"
   ]
  },
  {
   "cell_type": "raw",
   "id": "1cfe1265-8215-4013-b2e8-fec04ff98f44",
   "metadata": {},
   "source": [
    "11-Write a program that checks if a number is positive, negative, or zero."
   ]
  },
  {
   "cell_type": "code",
   "execution_count": 6,
   "id": "d96a5b04-b641-4277-9d77-69422d8a9ae8",
   "metadata": {},
   "outputs": [
    {
     "name": "stdin",
     "output_type": "stream",
     "text": [
      "Enter a number:  -42\n"
     ]
    },
    {
     "name": "stdout",
     "output_type": "stream",
     "text": [
      "The number is Negative.\n"
     ]
    }
   ],
   "source": [
    "# Program to check if a number is positive, negative, or zero\n",
    "\n",
    "\n",
    "num = float(input(\"Enter a number: \"))\n",
    "\n",
    "# Checking conditions\n",
    "if num > 0:\n",
    "    print(\"The number is Positive.\")\n",
    "elif num < 0:\n",
    "    print(\"The number is Negative.\")\n",
    "else:\n",
    "    print(\"The number is Zero.\")\n"
   ]
  },
  {
   "cell_type": "raw",
   "id": "cd94a918-596d-4895-8a48-5f5f5482ab45",
   "metadata": {},
   "source": [
    "12-Write a for loop to print numbers from 1 to 10."
   ]
  },
  {
   "cell_type": "code",
   "execution_count": 7,
   "id": "4fe1e671-55ce-4e66-9ef7-43ac36335ebb",
   "metadata": {},
   "outputs": [
    {
     "name": "stdout",
     "output_type": "stream",
     "text": [
      "1\n",
      "2\n",
      "3\n",
      "4\n",
      "5\n",
      "6\n",
      "7\n",
      "8\n",
      "9\n",
      "10\n"
     ]
    }
   ],
   "source": [
    "for i in range (1,11):\n",
    "    print(i)"
   ]
  },
  {
   "cell_type": "raw",
   "id": "60d21fe6-f623-4a10-af69-2313f5878271",
   "metadata": {},
   "source": [
    "13-# Program to find the sum of all even numbers between 1 and 50\n"
   ]
  },
  {
   "cell_type": "code",
   "execution_count": 11,
   "id": "7728d310-a730-4837-9c33-eef648d7c9aa",
   "metadata": {},
   "outputs": [
    {
     "name": "stdout",
     "output_type": "stream",
     "text": [
      "The sum of all even numbers between 1 and 50 is: 650\n"
     ]
    }
   ],
   "source": [
    "# Program to find the sum of all even numbers between 1 and 50\n",
    "\n",
    "total = 0\n",
    "\n",
    "for num in range(1, 51):  # Loop from 1 to 50\n",
    "    if num % 2 == 0:      # Check if the number is even\n",
    "        total += num\n",
    "\n",
    "print(\"The sum of all even numbers between 1 and 50 is:\", total)\n"
   ]
  },
  {
   "cell_type": "raw",
   "id": "b2e15de2-d10f-4462-9dba-28d49133219c",
   "metadata": {},
   "source": [
    "14- Write a program to reverse a string using a while loop"
   ]
  },
  {
   "cell_type": "code",
   "execution_count": 13,
   "id": "1ae97082-5f27-4bee-a536-b93496df6755",
   "metadata": {},
   "outputs": [
    {
     "name": "stdin",
     "output_type": "stream",
     "text": [
      "Enter a string:  heloo pw \n"
     ]
    },
    {
     "name": "stdout",
     "output_type": "stream",
     "text": [
      "Original string: heloo pw \n",
      "Reversed string:  wp ooleh\n"
     ]
    }
   ],
   "source": [
    "# Program to reverse a string using a while loop\n",
    "\n",
    "def reverse_string(input_str):\n",
    "    reversed_str = \"\"\n",
    "    index = len(input_str) - 1  # Start from the last character\n",
    "\n",
    "    # Loop until the beginning of the string\n",
    "    while index >= 0:\n",
    "        reversed_str += input_str[index]\n",
    "        index -= 1  # Move one step left\n",
    "\n",
    "    return reversed_str\n",
    "\n",
    "\n",
    "# Example usage\n",
    "original_string = input(\"Enter a string: \")\n",
    "reversed_result = reverse_string(original_string)\n",
    "\n",
    "print(\"Original string:\", original_string)\n",
    "print(\"Reversed string:\", reversed_result)\n"
   ]
  },
  {
   "cell_type": "raw",
   "id": "9a4f8480-a9fb-4c06-99eb-74228311c190",
   "metadata": {},
   "source": [
    "15-5. Write a Python program to calculate the factorial of a number provided by the user using a while loop."
   ]
  },
  {
   "cell_type": "code",
   "execution_count": 14,
   "id": "1f8da8b5-9204-4ae1-a9ff-9025780ec078",
   "metadata": {},
   "outputs": [
    {
     "name": "stdin",
     "output_type": "stream",
     "text": [
      "Enter a number to calculate its factorial:  55\n"
     ]
    },
    {
     "name": "stdout",
     "output_type": "stream",
     "text": [
      "The factorial of 55 is 12696403353658275925965100847566516959580321051449436762275840000000000000\n"
     ]
    }
   ],
   "source": [
    "# Python program to calculate factorial using a while loop\n",
    "\n",
    "def factorial(n):\n",
    "    # Initialize result\n",
    "    result = 1\n",
    "    \n",
    "    # Check if the number is negative, zero, or positive\n",
    "    if n < 0:\n",
    "        return \"Factorial is not defined for negative numbers\"\n",
    "    elif n == 0:\n",
    "        return 1\n",
    "    else:\n",
    "        # Use while loop to calculate factorial\n",
    "        counter = 1\n",
    "        while counter <= n:\n",
    "            result *= counter\n",
    "            counter += 1\n",
    "        return result\n",
    "\n",
    "# Get input from user\n",
    "try:\n",
    "    num = int(input(\"Enter a number to calculate its factorial: \"))\n",
    "    print(f\"The factorial of {num} is {factorial(num)}\")\n",
    "except ValueError:\n",
    "    print(\"Please enter a valid integer\")\n"
   ]
  },
  {
   "cell_type": "code",
   "execution_count": null,
   "id": "692916ae-a780-4f2d-af19-c429d25642c9",
   "metadata": {},
   "outputs": [],
   "source": []
  },
  {
   "cell_type": "code",
   "execution_count": null,
   "id": "26a9bc01-ea45-424b-9cbd-0edc9aedb0f8",
   "metadata": {},
   "outputs": [],
   "source": []
  },
  {
   "cell_type": "code",
   "execution_count": null,
   "id": "49fd4537-3123-47c0-bb6e-b5c0e5098999",
   "metadata": {},
   "outputs": [],
   "source": []
  },
  {
   "cell_type": "code",
   "execution_count": null,
   "id": "95e01f8e-e1c4-48bb-811e-96a794924eb0",
   "metadata": {},
   "outputs": [],
   "source": []
  },
  {
   "cell_type": "code",
   "execution_count": null,
   "id": "88f55dbb-13c5-4aa8-8f33-b5f3aec1bf8a",
   "metadata": {},
   "outputs": [],
   "source": []
  },
  {
   "cell_type": "code",
   "execution_count": null,
   "id": "25abc69e-8d57-494b-87ab-efd4d2cd358c",
   "metadata": {},
   "outputs": [],
   "source": []
  },
  {
   "cell_type": "code",
   "execution_count": null,
   "id": "6afd88cd-49e2-4fac-bfa0-ae8d31db8844",
   "metadata": {},
   "outputs": [],
   "source": []
  }
 ],
 "metadata": {
  "kernelspec": {
   "display_name": "Python [conda env:base] *",
   "language": "python",
   "name": "conda-base-py"
  },
  "language_info": {
   "codemirror_mode": {
    "name": "ipython",
    "version": 3
   },
   "file_extension": ".py",
   "mimetype": "text/x-python",
   "name": "python",
   "nbconvert_exporter": "python",
   "pygments_lexer": "ipython3",
   "version": "3.13.5"
  }
 },
 "nbformat": 4,
 "nbformat_minor": 5
}
