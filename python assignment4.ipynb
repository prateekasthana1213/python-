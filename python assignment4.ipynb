{
 "cells": [
  {
   "cell_type": "code",
   "execution_count": 1,
   "id": "67f2ad3c-4415-4cf2-8ae0-b05f32ff00ab",
   "metadata": {},
   "outputs": [],
   "source": [
    "#Python OOPs Questions"
   ]
  },
  {
   "cell_type": "code",
   "execution_count": null,
   "id": "2e876bd4-4fc5-4e2c-9c54-771a0d6146c9",
   "metadata": {},
   "outputs": [],
   "source": [
    "'''1- What is Object-Oriented Programming (OOP)?\n",
    "\n",
    "ans-Object-Oriented Programming (OOP) is a programming paradigm centered around the concept\n",
    "of \"objects,\" which are units that bundle both data (attributes) and behaviors (methods) together.\n",
    "In OOP, software is designed by defining \"classes\"—blueprints for data and functions—and \n",
    "creating instances of these classes called \"objects\"\n",
    "\n",
    "2- What is a class in OOP ?\n",
    "\n",
    "ans-A class in Object-Oriented Programming (OOP) is a blueprint or template that defines the \n",
    "structure and behavior for creating objects.It encapsulates data attributes (also known variables)\n",
    "and behaviors (methods or functions) that describe what a type of object can have and do.\n",
    "\n",
    "3-What is an object in OOP?\n",
    "\n",
    "ans -An object in Object-Oriented Programming (OOP) is an individual instance of a class that\n",
    "contains both data (attributes or state) and the actions (methods or behavior) that operate on that data. \n",
    "Each object has a unique identity, can store its own information in fields or variables, and can perform \n",
    "functions defined by its class through its methods.\n",
    "\n",
    "4-What is the difference between abstraction and encapsulation?\n",
    "\n",
    "ans- Abstraction is the process of exposing only the necessary features of an object or system to the user\n",
    "while hiding the internal implementation details. It focuses on “what” an object does, simplifying complex \n",
    "systems by providing a clear and essential interface. Abstraction helps reduce complexity and makes systems easier to use and maintain.\n",
    "\n",
    "Encapsulation, on the other hand, is the technique of bundling data (attributes) and the methods that operate\n",
    "on the data into a single unit, typically a class. Encapsulation restricts direct access to an object’s internal \n",
    "data, enforcing security and integrity by allowing data to be accessed or changed only through well-defined methods \n",
    "(like getters and setters). It emphasizes “how” the object achieves its tasks and supports data hiding from outside interference.\n",
    "\n",
    "5-What are dunder methods in Python ?\n",
    "\n",
    "ans-Dunder methods in Python, also known as magic methods, are special predefined methods whose names start and end \n",
    "with double underscores (e.g., __init__, __add__, __str__). The term \"dunder\" is short for \"double underscore.\" \n",
    "These methods enable objects of custom classes to interact with built-in Python functions and operators by defining \n",
    "how instances behave in certain operations, such as initialization, addition, string representation, and comparison.\n",
    "\n",
    "6- Explain the concept of inheritance in OOPH?\n",
    "\n",
    "ans- Inheritance in Object-Oriented Programming (OOP) is a mechanism by which a new class \n",
    "(called the subclass or child class) is created based on an existing class (called the superclass or parent class).\n",
    "The subclass inherits the attributes (data fields) and behaviors (methods) of the parent class, allowing code reuse\n",
    "and the creation of class hierarchies.\n",
    "\n",
    "This means the child class can use the properties and methods defined in the parent class without having to redefine them.\n",
    "Additionally, the subclass can extend or override these inherited methods to provide specialized behavior.\n",
    "\n",
    "7-What is polymorphism in OOP?\n",
    "\n",
    "ans-Polymorphism in Object-Oriented Programming (OOP) is the ability of objects to take on multiple forms and respond \n",
    "differently to the same function or method call depending on their specific class. It allows a single interface to\n",
    "represent different underlying data types, enabling code flexibility and reuse.\n",
    "\n",
    "8-How is encapsulation achieved in Python?\n",
    "\n",
    "ans-Encapsulation in Python is achieved by bundling data (attributes) and methods that operate on the data within a \n",
    "single class, and restricting direct access to some of the object's components to protect the internal state.\n",
    "Python uses naming conventions with underscores to implement encapsulation:\n",
    "A single underscore prefix (e.g., _variable) indicates a protected member, meant for internal use within the class and its subclasses.\n",
    "\n",
    "A double underscore prefix (e.g., __variable) makes an attribute private by triggering name mangling, preventing it from being accessed\n",
    "directly outside the class.\n",
    "\n",
    "9-What is a constructor in Python?\n",
    "\n",
    "ans- A constructor in Python is a special method that is automatically called when an object of a class is created. Its primary purpose\n",
    "is to initialize the newly created object by setting its initial state or assigning values to its attributes. The constructor method in\n",
    "Python is defined using the special method __init__().\n",
    "\n",
    "The __init__ method takes at least one parameter: self, which refers to the instance being created. It can also take other parameters to \n",
    "allow passing initial values during object creation.\n",
    "\n",
    "10- What are class and static methods in Python?\n",
    "\n",
    "ans-Class Methods (@classmethod)\n",
    "- Definition: A method that receives the class (cls) as its first argument instead of the instance (self).\n",
    "- Decorator: @classmethod\n",
    "- Use Case: Useful when you want to create factory methods or access/modify class-level data.\n",
    "Static Methods (@staticmethod)\n",
    "- Definition: A method that doesn’t receive either self or cls. It behaves like a regular function but belongs to the class’s namespace.\n",
    "- Decorator: @staticmethod\n",
    "- Use Case: Ideal for utility functions that relate to the class but don’t need access to instance or class data.\n",
    "\n",
    "11-What is method overloading in Python?\n",
    "\n",
    "ans- In Python, method overloading refers to the ability to define multiple methods with the same name but different\n",
    "parameters. However, unlike some other languages like Java or C++, Python does not support method overloading natively. \n",
    "Instead, Python uses a more flexible approach based on default arguments and variable-length arguments.\n",
    "\n",
    "12- What is method overriding in OOP ?\n",
    "\n",
    "ans- Method overriding in Object-Oriented Programming (OOP) occurs when a subclass (child class) provides its own \n",
    "implementation of a method that is already defined in its superclass (parent class).\n",
    "\n",
    "13-What is a property decorator in Python ?\n",
    "\n",
    "ans- @property decorator in Python is used to define getter, setter, and deleter methods for a class in a clean, \n",
    "readable way — making a method act like an attribute.\n",
    "\n",
    "It allows encapsulation (controlling access to private attributes) while keeping a simple dot notation interface.\n",
    "\n",
    "14-Why is polymorphism important in OOP?\n",
    "\n",
    "ans - polymorphism is one of the four main pillars of Object-Oriented Programming (OOP) — along with encapsulation, \n",
    "inheritance, and abstraction.\n",
    "\n",
    "It means “many forms”, and in OOP, it allows different classes to respond to the same method name in different ways.\n",
    "\n",
    "15-What is an abstract class in Python?\n",
    "\n",
    "ans-An abstract class in Python is a blueprint for other classes — it defines methods that must be implemented by \n",
    "any subclass that inherits from it.\n",
    "\n",
    "In other words, an abstract class cannot be instantiated directly and serves as a template for creating subclasses \n",
    "share a common structure but may have different implementations.\n",
    "\n",
    "16- What are the advantages of OOP?\n",
    "\n",
    "ans- Main Advantages of OOP:\n",
    "1.Modularity (Code Organization)\n",
    "\n",
    "OOP breaks large programs into smaller, independent classes.\n",
    "\n",
    "Each class handles a specific task, making code easier to understand and maintain.\n",
    "Example: You can have separate classes for Customer, Order, and Product in an e-commerce app.\n",
    "\n",
    "2.Reusability (Through Inheritance)\n",
    "\n",
    "Classes can reuse code from other classes instead of rewriting it.\n",
    "\n",
    "You can extend or modify existing functionality by creating subclasses.\n",
    "Example: A Dog class can inherit from an Animal class and reuse its attributes like name or age.\n",
    "\n",
    "3. Encapsulation (Data Protection)\n",
    "\n",
    "OOP allows hiding internal data and exposing only what’s necessary using public, private, and protected members.\n",
    "\n",
    "This prevents unwanted modification and keeps data secure.\n",
    "Example: You can use @property to control how attributes like salary are accessed or changed.\n",
    "\n",
    "4. polymorphism (Flexibility & Extensibility)\n",
    "\n",
    "The same method name can behave differently depending on the object.\n",
    "\n",
    "Enables writing flexible and easily extendable code.\n",
    "Example: draw() method can work for both Circle and Rectangle objects, each with its own behavior.\n",
    "\n",
    "5. Abstraction (Simplified Interface)\n",
    "\n",
    "Hides complex implementation details and shows only essential features.\n",
    "\n",
    "Helps reduce complexity for users and developers.\n",
    "Example: You don’t need to know how a car engine works — you just use the start() method.\n",
    "\n",
    "17-What is the difference between a class variable and an instance variable?\n",
    "\n",
    "ans-Class Variable\n",
    "-Belongs to the class itself, not to any specific object.\n",
    "-Shared among all instances of that class.\n",
    "-Defined inside the class, but outside any method.\n",
    "-Changing it through the class affects all objects.\n",
    "\n",
    "Instance Variable\n",
    "-Belongs to a specific object (instance).\n",
    "-Each object has its own copy of the variable.\n",
    "-Defined using self inside a method (usually __init__).\n",
    "-Changing one object’s instance variable does not affect others.\n",
    "\n",
    "18- What is multiple inheritance in Python?\n",
    "\n",
    "ans-Multiple inheritance in Python means that a class can inherit from more than one parent class at the same time.\n",
    "\n",
    "This allows the child class to combine features and behavior from multiple classes into one.\n",
    "\n",
    "19-Explain the purpose of ‘’__str__’ and ‘__repr__’ ‘ methods in Python?\n",
    "\n",
    "ans-__str__ → User-friendly string representation\n",
    "\n",
    "Called by the print() function and str().\n",
    "Its goal is to return a readable, human-friendly description of the object.\n",
    "Used mainly for displaying information to end users.\n",
    "\n",
    "__repr__ → Developer-friendly representation\n",
    "\n",
    "Called by the repr() function and the Python shell.\n",
    "Its goal is to return an unambiguous string, ideally one that can be used to recreate the object.\n",
    "Used mainly for debugging and development.\n",
    "\n",
    "20-What is the significance of the ‘super()’ function in Python?\n",
    "\n",
    "ans-Definition:\n",
    "\n",
    "The super() function is used to call a method (usually from the parent class) inside a child class.\n",
    "It allows a subclass to reuse and extend functionality from its superclass without explicitly naming the parent class.\n",
    "\n",
    "21- What is the significance of the __del__ method in Python?\n",
    "\n",
    "ans- The __del__ method in Python is a special (dunder) method known as a destructor. It is called when an object\n",
    "is about to be destroyed (i.e., when it is garbage collected).\n",
    "It allows you to perform cleanup actions, such as closing files, releasing resources, or other finalization tasks.\n",
    "\n",
    "22-What is the difference between @staticmethod and @classmethod in Python?\n",
    "\n",
    "ans- @staticmethod\n",
    "\n",
    "A static method does not take self or cls as a parameter.\n",
    "It cannot access instance variables or class variables directly.\n",
    "It behaves like a regular function but belongs to the class’s namespace.\n",
    "Usually used for utility functions related to the class.\n",
    "\n",
    "@classmethod\n",
    "\n",
    "A class method takes cls as the first parameter, which refers to the class itself.\n",
    "It can access class variables and other class methods, but not instance variables.\n",
    "Often used as factory methods or to modify class-level data.\n",
    "\n",
    "23-How does polymorphism work in Python with inheritance?\n",
    "\n",
    "ans- Definition:\n",
    "\n",
    "Polymorphism allows objects of different subclasses to be treated as objects of a common superclass, while invoking the same \n",
    "method name produces different behaviors depending on the object.\n",
    "\n",
    "How it works with Inheritance:\n",
    "Define a parent class with a method.\n",
    "Create child classes that inherit from the parent and override that method.\n",
    "Use parent class references to call the method — Python automatically calls the child class’s overridden version.\n",
    "\n",
    "24-What is method chaining in Python OOP?\n",
    "\n",
    "ans-Method chaining in Python OOP is a technique where multiple methods are called on the same object consecutively in a \n",
    "single statement. Each method call returns the object itself, allowing the next method to be invoked directly.\n",
    "It’s often used to write more concise and readable code.\n",
    "\n",
    "25- What is the purpose of the __call__ method in Python?\n",
    "\n",
    "ans- The __call__ method in Python is a special (dunder) method that allows an object to be called like a function.\n",
    "\n",
    "In other words, if a class defines __call__, its instances become callable.\n",
    "Purpose:\n",
    "Makes an object behave like a function.\n",
    "Useful for wrapping functionality inside an object.\n",
    "Can store state or configuration in the object while still being callable.'''"
   ]
  },
  {
   "cell_type": "code",
   "execution_count": 2,
   "id": "39344477-ea4a-4c2f-b15a-d739307168a2",
   "metadata": {},
   "outputs": [],
   "source": [
    "#practical questions"
   ]
  },
  {
   "cell_type": "code",
   "execution_count": 8,
   "id": "5137bf1a-4bb8-4b79-95fe-c05fccb9f4f6",
   "metadata": {},
   "outputs": [
    {
     "name": "stdout",
     "output_type": "stream",
     "text": [
      "The animal makes a sound\n",
      "Bark!\n"
     ]
    }
   ],
   "source": [
    "'''1. Create a parent class Animal with a method speak() that prints a generic message. Create a child class Dog\n",
    "that overrides the speak() method to print \"Bark!\".'''\n",
    "\n",
    "# Parent class\n",
    "class Animal:\n",
    "    def speak(self):\n",
    "        print(\"The animal makes a sound\")\n",
    "\n",
    "# Child class\n",
    "class Dog(Animal):\n",
    "    def speak(self):\n",
    "        print(\"Bark!\")\n",
    "\n",
    "# Example usage\n",
    "a = Animal()\n",
    "a.speak()   # Output: The animal makes a sound\n",
    "\n",
    "d = Dog()\n",
    "d.speak()   # Output: Bark!\n",
    "\n"
   ]
  },
  {
   "cell_type": "code",
   "execution_count": 9,
   "id": "579a6eec-a344-4093-889c-3a115db564be",
   "metadata": {},
   "outputs": [
    {
     "name": "stdout",
     "output_type": "stream",
     "text": [
      "Area of Circle: 78.53981633974483\n",
      "Area of Rectangle: 24\n"
     ]
    }
   ],
   "source": [
    "'''2. Write a program to create an abstract class Shape with a method area(). Derive classes Circle and Rectangle\n",
    "from it and implement the area() method in both.'''\n",
    "\n",
    "from abc import ABC, abstractmethod\n",
    "import math\n",
    "\n",
    "# Abstract class\n",
    "class Shape(ABC):\n",
    "    @abstractmethod\n",
    "    def area(self):\n",
    "        pass\n",
    "\n",
    "# Derived class: Circle\n",
    "class Circle(Shape):\n",
    "    def __init__(self, radius):\n",
    "        self.radius = radius\n",
    "\n",
    "    def area(self):\n",
    "        return math.pi * self.radius ** 2\n",
    "\n",
    "# Derived class: Rectangle\n",
    "class Rectangle(Shape):\n",
    "    def __init__(self, length, width):\n",
    "        self.length = length\n",
    "        self.width = width\n",
    "\n",
    "    def area(self):\n",
    "        return self.length * self.width\n",
    "\n",
    "# Example usage\n",
    "circle = Circle(5)\n",
    "rectangle = Rectangle(4, 6)\n",
    "\n",
    "print(\"Area of Circle:\", circle.area())\n",
    "print(\"Area of Rectangle:\", rectangle.area())\n",
    "\n"
   ]
  },
  {
   "cell_type": "code",
   "execution_count": 10,
   "id": "04ca8bb1-a072-4ef2-badf-df6309c75b4c",
   "metadata": {},
   "outputs": [
    {
     "name": "stdout",
     "output_type": "stream",
     "text": [
      "Vehicle type: Four-wheeler\n",
      "Car brand: Tesla\n",
      "Battery capacity: 75 kWh\n"
     ]
    }
   ],
   "source": [
    "'''3. Implement a multi-level inheritance scenario where a class Vehicle has an attribute type. Derive a class Car\n",
    "and further derive a class ElectricCar that adds a battery attribute.'''\n",
    "\n",
    "# Base class\n",
    "class Vehicle:\n",
    "    def __init__(self, vehicle_type):\n",
    "        self.vehicle_type = vehicle_type\n",
    "\n",
    "    def show_type(self):\n",
    "        print(\"Vehicle type:\", self.vehicle_type)\n",
    "\n",
    "# Derived class 1\n",
    "class Car(Vehicle):\n",
    "    def __init__(self, vehicle_type, brand):\n",
    "        super().__init__(vehicle_type)\n",
    "        self.brand = brand\n",
    "\n",
    "    def show_brand(self):\n",
    "        print(\"Car brand:\", self.brand)\n",
    "\n",
    "# Derived class 2 (multi-level inheritance)\n",
    "class ElectricCar(Car):\n",
    "    def __init__(self, vehicle_type, brand, battery_capacity):\n",
    "        super().__init__(vehicle_type, brand)\n",
    "        self.battery_capacity = battery_capacity\n",
    "\n",
    "    def show_battery(self):\n",
    "        print(\"Battery capacity:\", self.battery_capacity, \"kWh\")\n",
    "\n",
    "# Example usage\n",
    "e_car = ElectricCar(\"Four-wheeler\", \"Tesla\", 75)\n",
    "e_car.show_type()\n",
    "e_car.show_brand()\n",
    "e_car.show_battery()\n"
   ]
  },
  {
   "cell_type": "code",
   "execution_count": 11,
   "id": "84de924c-51da-4b78-97d2-fe1746decb77",
   "metadata": {},
   "outputs": [
    {
     "name": "stdout",
     "output_type": "stream",
     "text": [
      "Sparrow can fly high in the sky!\n",
      "Penguin cannot fly but can swim very well!\n"
     ]
    }
   ],
   "source": [
    "'''4. Demonstrate polymorphism by creating a base class Bird with a method fly(). Create two derived classes\n",
    "Sparrow and Penguin that override the fly() method.'''\n",
    "\n",
    "# Base class\n",
    "class Bird:\n",
    "    def fly(self):\n",
    "        print(\"Some birds can fly, some cannot.\")\n",
    "\n",
    "# Derived class 1\n",
    "class Sparrow(Bird):\n",
    "    def fly(self):\n",
    "        print(\"Sparrow can fly high in the sky!\")\n",
    "\n",
    "# Derived class 2\n",
    "class Penguin(Bird):\n",
    "    def fly(self):\n",
    "        print(\"Penguin cannot fly but can swim very well!\")\n",
    "\n",
    "# Function demonstrating polymorphism\n",
    "def show_flight_ability(bird):\n",
    "    bird.fly()\n",
    "\n",
    "# Example usage\n",
    "sparrow = Sparrow()\n",
    "penguin = Penguin()\n",
    "\n",
    "show_flight_ability(sparrow)   # Output: Sparrow can fly high in the sky!\n",
    "show_flight_ability(penguin)   # Output: Penguin cannot fly but can swim very well!\n"
   ]
  },
  {
   "cell_type": "code",
   "execution_count": 12,
   "id": "da9eb33c-2c2c-4c79-84d6-011a531d8976",
   "metadata": {},
   "outputs": [
    {
     "name": "stdout",
     "output_type": "stream",
     "text": [
      "Current balance: ₹1000\n",
      "Deposited ₹500. New balance: ₹1500\n",
      "Withdrew ₹300. Remaining balance: ₹1200\n",
      "Invalid withdrawal amount or insufficient balance.\n"
     ]
    }
   ],
   "source": [
    "'''5. Write a program to demonstrate encapsulation by creating a class BankAccount with private attributes\n",
    "balance and methods to deposit, withdraw, and check balance.'''\n",
    "\n",
    "# Encapsulation Example\n",
    "class BankAccount:\n",
    "    def __init__(self, account_holder, initial_balance=0):\n",
    "        self.account_holder = account_holder\n",
    "        self.__balance = initial_balance   # Private attribute\n",
    "\n",
    "    # Method to deposit money\n",
    "    def deposit(self, amount):\n",
    "        if amount > 0:\n",
    "            self.__balance += amount\n",
    "            print(f\"Deposited ₹{amount}. New balance: ₹{self.__balance}\")\n",
    "        else:\n",
    "            print(\"Deposit amount must be positive.\")\n",
    "\n",
    "    # Method to withdraw money\n",
    "    def withdraw(self, amount):\n",
    "        if 0 < amount <= self.__balance:\n",
    "            self.__balance -= amount\n",
    "            print(f\"Withdrew ₹{amount}. Remaining balance: ₹{self.__balance}\")\n",
    "        else:\n",
    "            print(\"Invalid withdrawal amount or insufficient balance.\")\n",
    "\n",
    "    # Method to check balance\n",
    "    def check_balance(self):\n",
    "        print(f\"Current balance: ₹{self.__balance}\")\n",
    "\n",
    "# Example usage\n",
    "account = BankAccount(\"Prateek\", 1000)\n",
    "account.check_balance()\n",
    "account.deposit(500)\n",
    "account.withdraw(300)\n",
    "account.withdraw(2000)  # Invalid withdrawal\n"
   ]
  },
  {
   "cell_type": "code",
   "execution_count": 13,
   "id": "c08b29e7-89d3-4400-850b-65b823ae142b",
   "metadata": {},
   "outputs": [
    {
     "name": "stdout",
     "output_type": "stream",
     "text": [
      "Playing the guitar\n",
      "Playing the piano\n"
     ]
    }
   ],
   "source": [
    "'''6. Demonstrate runtime polymorphism using a method play() in a base class Instrument. Derive classes Guitar\n",
    "and Piano that implement their own version of play().'''\n",
    "\n",
    "class Instrument:\n",
    "    def play(self):\n",
    "        print(\"Instrument is being played\")\n",
    "\n",
    "class Guitar(Instrument):\n",
    "    def play(self):\n",
    "        print(\"Playing the guitar\")\n",
    "\n",
    "class Piano(Instrument):\n",
    "    def play(self):\n",
    "        print(\"Playing the piano\")\n",
    "\n",
    "# Runtime polymorphism demonstration\n",
    "instruments = [Guitar(), Piano()]\n",
    "\n",
    "for instrument in instruments:\n",
    "    instrument.play()\n",
    "\n",
    "\n",
    "\n"
   ]
  },
  {
   "cell_type": "code",
   "execution_count": 14,
   "id": "f47d8162-dcf3-4a04-be2e-019aa4e19503",
   "metadata": {},
   "outputs": [
    {
     "name": "stdout",
     "output_type": "stream",
     "text": [
      "15\n",
      "5\n"
     ]
    }
   ],
   "source": [
    "'''7. Create a class MathOperations with a class method add_numbers() to add two numbers and a static\n",
    "method subtract_numbers() to subtract two numbers.'''\n",
    "\n",
    "class MathOperations:\n",
    "    @classmethod\n",
    "    def add_numbers(cls, x, y):\n",
    "        return x + y\n",
    "\n",
    "    @staticmethod\n",
    "    def subtract_numbers(x, y):\n",
    "        return x - y\n",
    "\n",
    "# Usage\n",
    "print(MathOperations.add_numbers(10, 5))     # Output: 15\n",
    "print(MathOperations.subtract_numbers(10, 5)) # Output: 5\n"
   ]
  },
  {
   "cell_type": "code",
   "execution_count": 15,
   "id": "1a9943ea-aaad-4779-aab0-e2b67c0998a3",
   "metadata": {},
   "outputs": [
    {
     "name": "stdout",
     "output_type": "stream",
     "text": [
      "3\n"
     ]
    }
   ],
   "source": [
    "'''8. Implement a class Person with a class method to count the total number of persons created.'''\n",
    "\n",
    "class Person:\n",
    "    count = 0  # Class variable to track the number of instances\n",
    "\n",
    "    def __init__(self, name):\n",
    "        self.name = name\n",
    "        Person.count += 1\n",
    "\n",
    "    @classmethod\n",
    "    def total_persons(cls):\n",
    "        return cls.count\n",
    "\n",
    "# Usage\n",
    "p1 = Person(\"Alice\")\n",
    "p2 = Person(\"Bob\")\n",
    "p3 = Person(\"Charlie\")\n",
    "\n",
    "print(Person.total_persons())  # Output: 3\n"
   ]
  },
  {
   "cell_type": "code",
   "execution_count": 16,
   "id": "3a35c9f9-3549-4769-9426-dacc992c11fd",
   "metadata": {},
   "outputs": [
    {
     "name": "stdout",
     "output_type": "stream",
     "text": [
      "3/5\n"
     ]
    }
   ],
   "source": [
    "'''9. Write a class Fraction with attributes numerator and denominator. Override the str method to display the\n",
    "fraction as \"numerator/denominator\".'''\n",
    "\n",
    "class Fraction:\n",
    "    def __init__(self, numerator, denominator):\n",
    "        self.numerator = numerator\n",
    "        self.denominator = denominator\n",
    "\n",
    "    def __str__(self):\n",
    "        return f\"{self.numerator}/{self.denominator}\"\n",
    "\n",
    "# Usage\n",
    "frac = Fraction(3, 5)\n",
    "print(frac) \n"
   ]
  },
  {
   "cell_type": "code",
   "execution_count": 19,
   "id": "cf25cc00-29fa-4de5-8dd3-10703b9bf144",
   "metadata": {},
   "outputs": [
    {
     "name": "stdout",
     "output_type": "stream",
     "text": [
      "(6, 4)\n"
     ]
    }
   ],
   "source": [
    "'''10. Demonstrate operator overloading by creating a class Vector and overriding the add method to add two\n",
    "vectors.'''\n",
    "\n",
    "class Vector:\n",
    "    def __init__(self, x, y):\n",
    "        self.x = x\n",
    "        self.y = y\n",
    "\n",
    "    def __add__(self, other):\n",
    "        if isinstance(other, Vector):\n",
    "            return Vector(self.x + other.x, self.y + other.y)\n",
    "        return NotImplemented  # Return NotImplemented if other is not a Vector\n",
    "\n",
    "    def __str__(self):\n",
    "        return f\"({self.x}, {self.y})\"\n",
    "\n",
    "# Usage example\n",
    "v1 = Vector(2, 3)\n",
    "v2 = Vector(4, 1)\n",
    "v3 = v1+v2\n",
    "print(v3)"
   ]
  },
  {
   "cell_type": "code",
   "execution_count": 22,
   "id": "2b514537-6752-4d38-9a67-eed888c2f1c2",
   "metadata": {},
   "outputs": [
    {
     "name": "stdout",
     "output_type": "stream",
     "text": [
      "Hello, my name is prateek and I am 25 years old.\n"
     ]
    }
   ],
   "source": [
    "'''11. Create a class Person with attributes name and age. Add a method greet() that prints \"Hello, my name is\n",
    "{name} and I am {age} years old.\"'''\n",
    "\n",
    "class Person:\n",
    "    def __init__(self, name, age):\n",
    "        self.name = name\n",
    "        self.age = age\n",
    "\n",
    "    def greet(self):\n",
    "        print(f\"Hello, my name is {self.name} and I am {self.age} years old.\")\n",
    "\n",
    "# Usage\n",
    "person = Person(\"prateek\", 25)\n",
    "person.greet()  # Output: Hello, my name is Alice and I am 30 years old.\n"
   ]
  },
  {
   "cell_type": "code",
   "execution_count": 23,
   "id": "64442d8e-ad2d-49c1-b0a6-a31734809e71",
   "metadata": {},
   "outputs": [
    {
     "name": "stdout",
     "output_type": "stream",
     "text": [
      "prateek's average grade is 86.25\n"
     ]
    }
   ],
   "source": [
    "'''12. Implement a class Student with attributes name and grades. Create a method average_grade() to compute\n",
    "the average of the grades.'''\n",
    "\n",
    "class Student:\n",
    "    def __init__(self, name, grades):\n",
    "        self.name = name\n",
    "        self.grades = grades  # List of numeric grades\n",
    "\n",
    "    def average_grade(self):\n",
    "        if not self.grades:\n",
    "            return 0  # Return 0 if no grades are present\n",
    "        return sum(self.grades) / len(self.grades)\n",
    "\n",
    "# Usage\n",
    "student = Student(\"prateek\", [85, 90, 78, 92])\n",
    "print(f\"{student.name}'s average grade is {student.average_grade():.2f}\")\n",
    "# Output: John's average grade is 86.25\n"
   ]
  },
  {
   "cell_type": "code",
   "execution_count": 27,
   "id": "1decb835-e1d5-417e-b85a-690db4279ca6",
   "metadata": {},
   "outputs": [
    {
     "name": "stdout",
     "output_type": "stream",
     "text": [
      "Area of the rectangle: 15\n"
     ]
    }
   ],
   "source": [
    "'''13. Create a class Rectangle with methods set_dimensions() to set the dimensions and area() to calculate the\n",
    "area.'''\n",
    "\n",
    "class Rectangle:\n",
    "    def __init__(self):\n",
    "        self.length = 0\n",
    "        self.breadth = 0\n",
    "\n",
    "    def set_dimensions(self, length, breadth):\n",
    "        self.length = length\n",
    "        self.breadth = breadth\n",
    "\n",
    "    def area(self):\n",
    "        return self.length * self.breadth\n",
    "\n",
    "# Usage\n",
    "rect = Rectangle()\n",
    "rect.set_dimensions(5, 3)\n",
    "print(f\"Area of the rectangle: {rect.area()}\")"
   ]
  },
  {
   "cell_type": "code",
   "execution_count": 28,
   "id": "e2e9d91b-b684-4983-b750-b200f20ef623",
   "metadata": {},
   "outputs": [
    {
     "name": "stdout",
     "output_type": "stream",
     "text": [
      "Manager's salary: 1100\n"
     ]
    }
   ],
   "source": [
    "'''14. Create a class Employee with a method calculate_salary() that computes the salary based on hours worked\n",
    "and hourly rate. Create a derived class Manager that adds a bonus to the salary.'''\n",
    "\n",
    "class Employee:\n",
    "    def __init__(self, hours_worked, hourly_rate):\n",
    "        self.hours_worked = hours_worked\n",
    "        self.hourly_rate = hourly_rate\n",
    "\n",
    "    def calculate_salary(self):\n",
    "        return self.hours_worked * self.hourly_rate\n",
    "\n",
    "class Manager(Employee):\n",
    "    def __init__(self, hours_worked, hourly_rate, bonus):\n",
    "        super().__init__(hours_worked, hourly_rate)\n",
    "        self.bonus = bonus\n",
    "\n",
    "    def calculate_salary(self):\n",
    "        base_salary = super().calculate_salary()\n",
    "        return base_salary + self.bonus\n",
    "\n",
    "# Usage\n",
    "manager = Manager(40, 20, 300)\n",
    "print(f\"Manager's salary: {manager.calculate_salary()}\")\n",
    "\n"
   ]
  },
  {
   "cell_type": "code",
   "execution_count": 29,
   "id": "65bd0ed5-11e8-4b06-8baa-546e5c122b9c",
   "metadata": {},
   "outputs": [
    {
     "name": "stdout",
     "output_type": "stream",
     "text": [
      "Total price of Laptop: $2400\n"
     ]
    }
   ],
   "source": [
    "'''15. Create a class Product with attributes name, price, and quantity. Implement a method total_price() that\n",
    "calculates the total price of the product.'''\n",
    "\n",
    "class Product:\n",
    "    def __init__(self, name, price, quantity):\n",
    "        self.name = name\n",
    "        self.price = price\n",
    "        self.quantity = quantity\n",
    "\n",
    "    def total_price(self):\n",
    "        return self.price * self.quantity\n",
    "\n",
    "# Usage\n",
    "product = Product(\"Laptop\", 800, 3)\n",
    "print(f\"Total price of {product.name}: ${product.total_price()}\")"
   ]
  },
  {
   "cell_type": "code",
   "execution_count": 30,
   "id": "429cb20e-1f5a-4c16-bbff-4e0d1f426208",
   "metadata": {},
   "outputs": [
    {
     "name": "stdout",
     "output_type": "stream",
     "text": [
      "Moo\n",
      "Baa\n"
     ]
    }
   ],
   "source": [
    "'''16. Create a class Animal with an abstract method sound(). Create two derived classes Cow and Sheep that\n",
    "implement the sound() method.'''\n",
    "\n",
    "from abc import ABC, abstractmethod\n",
    "\n",
    "class Animal(ABC):\n",
    "    @abstractmethod\n",
    "    def sound(self):\n",
    "        pass\n",
    "\n",
    "class Cow(Animal):\n",
    "    def sound(self):\n",
    "        return \"Moo\"\n",
    "\n",
    "class Sheep(Animal):\n",
    "    def sound(self):\n",
    "        return \"Baa\"\n",
    "\n",
    "# Usage\n",
    "cow = Cow()\n",
    "sheep = Sheep()\n",
    "\n",
    "print(cow.sound())   \n",
    "print(sheep.sound()) \n"
   ]
  },
  {
   "cell_type": "code",
   "execution_count": 32,
   "id": "eadc4620-9682-47a1-9b96-eedfadb379eb",
   "metadata": {},
   "outputs": [
    {
     "name": "stdout",
     "output_type": "stream",
     "text": [
      "'To Kill a Mockingbird' by Harper Lee, published in 1960\n"
     ]
    }
   ],
   "source": [
    "'''17. Create a class Book with attributes title, author, and year_published. Add a method get_book_info() that\n",
    "returns a formatted string with the book's details.'''\n",
    "\n",
    "class Book:\n",
    "    def __init__(self, title, author, year_published):\n",
    "        self.title = title\n",
    "        self.author = author\n",
    "        self.year_published = year_published\n",
    "\n",
    "    def get_book_info(self):\n",
    "        return f\"'{self.title}' by {self.author}, published in {self.year_published}\"\n",
    "\n",
    "# Usage\n",
    "book = Book(\"To Kill a Mockingbird\", \"Harper Lee\", 1960)\n",
    "print(book.get_book_info())"
   ]
  },
  {
   "cell_type": "code",
   "execution_count": 1,
   "id": "1dce26b4-e3e6-4cba-9a63-de26e927ba97",
   "metadata": {},
   "outputs": [
    {
     "name": "stdout",
     "output_type": "stream",
     "text": [
      "Address: 123 Luxury Street, Lucknow\n",
      "Price: ₹50000000\n",
      "Number of Rooms: 12\n"
     ]
    }
   ],
   "source": [
    "'''18. Create a class House with attributes address and price. Create a derived class Mansion that adds an\n",
    "attribute number_of_rooms.'''\n",
    "\n",
    "# Base class\n",
    "class House:\n",
    "    def __init__(self, address, price):\n",
    "        self.address = address\n",
    "        self.price = price\n",
    "\n",
    "    def display_info(self):\n",
    "        print(f\"Address: {self.address}\")\n",
    "        print(f\"Price: ₹{self.price}\")\n",
    "\n",
    "# Derived class\n",
    "class Mansion(House):\n",
    "    def __init__(self, address, price, number_of_rooms):\n",
    "        super().__init__(address, price)  # Initialize parent class attributes\n",
    "        self.number_of_rooms = number_of_rooms\n",
    "\n",
    "    def display_info(self):\n",
    "        super().display_info()  # Call parent method\n",
    "        print(f\"Number of Rooms: {self.number_of_rooms}\")\n",
    "\n",
    "\n",
    "# Example usage\n",
    "m1 = Mansion(\"123 Luxury Street, Lucknow\", 50000000, 12)\n",
    "m1.display_info()\n",
    "\n"
   ]
  },
  {
   "cell_type": "code",
   "execution_count": null,
   "id": "99f84bf4-d6a5-427f-aa13-53ab66fa4471",
   "metadata": {},
   "outputs": [],
   "source": []
  }
 ],
 "metadata": {
  "kernelspec": {
   "display_name": "Python [conda env:base] *",
   "language": "python",
   "name": "conda-base-py"
  },
  "language_info": {
   "codemirror_mode": {
    "name": "ipython",
    "version": 3
   },
   "file_extension": ".py",
   "mimetype": "text/x-python",
   "name": "python",
   "nbconvert_exporter": "python",
   "pygments_lexer": "ipython3",
   "version": "3.13.5"
  }
 },
 "nbformat": 4,
 "nbformat_minor": 5
}
