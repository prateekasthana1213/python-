{
  "cells": [
    {
      "cell_type": "code",
      "source": [
        "'''Question 1 : What is the difference between multithreading and multiprocessing?\n",
        "\n",
        "ans-\n",
        "The main difference between multithreading and multiprocessing lies in how tasks are divided and executed in parallel.\n",
        "Both aim to improve performance and resource utilization but operate at different levels of concurrency.​\n",
        "\n",
        "Core Difference\n",
        "Multithreading creates multiple threads inside a single process to run tasks concurrently.\n",
        "\n",
        "Multiprocessing uses multiple processes, each with its own memory space, to achieve parallelism across multiple CPUs.\n",
        "Use multithreading for tasks that spend time waiting (I/O-bound), where sharing memory and quick context switching are advantageous.\n",
        "\n",
        "Use multiprocessing for tasks that require intensive computation (CPU-bound) since it allows multiple cores to work in parallel\n",
        "\n",
        "\n",
        "Question 2: What are the challenges associated with memory management in Python?\n",
        "\n",
        "ans-\n",
        "Memory management in Python faces several challenges primarily because of its automatic handling, dynamic nature, and the way resources are allocated and deallocated during program execution.​\n",
        "\n",
        "Major Challenges\n",
        "Garbage Collection and Reference Counting\n",
        "\n",
        "Python primarily uses reference counting to keep track of the number of references to each object. When the count drops to zero, the object is deallocated\n",
        "\n",
        "Fragmentation and Memory Overhead\n",
        "\n",
        "The Python memory manager (pymalloc) optimizes for small objects, but can cause memory fragmentation when many small allocations and deallocations occur. This can make memory less usable for larger objects and add inefficiency.\n",
        "'''\n"
      ],
      "metadata": {
        "id": "cT14ZoWfWrxr"
      },
      "id": "cT14ZoWfWrxr",
      "execution_count": null,
      "outputs": []
    },
    {
      "cell_type": "code",
      "source": [
        "#Question 3:Write a Python program that logs an error message to a log file when a division by zero exception occurs\n",
        "\n",
        "import logging\n",
        "\n",
        "# Configure logging to write errors to a file named 'ZeroDivisionError.txt'\n",
        "logging.basicConfig(filename='ZeroDivisionError.txt', level=logging.ERROR)\n",
        "\n",
        "try:\n",
        "    result = 10 / 0\n",
        "except ZeroDivisionError as e:\n",
        "    logging.error(\"Uh-oh! An error occurred: %s\", e)\n",
        "\n"
      ],
      "metadata": {
        "colab": {
          "base_uri": "https://localhost:8080/"
        },
        "id": "NYFHrhYAWr0P",
        "outputId": "393392b8-b16f-4b93-9313-2ed53f03ca5d"
      },
      "id": "NYFHrhYAWr0P",
      "execution_count": 11,
      "outputs": [
        {
          "output_type": "stream",
          "name": "stderr",
          "text": [
            "ERROR:root:Uh-oh! An error occurred: division by zero\n"
          ]
        }
      ]
    },
    {
      "cell_type": "code",
      "source": [
        "#Question 4:Write a Python program that reads from one file and writes its content to another file\n",
        "\n",
        "# Reading from 'source.txt' and writing to 'destination.txt'\n",
        "with open('source.txt', 'r') as source_file:\n",
        "    with open('destination.txt', 'w') as dest_file:\n",
        "        # Read all content from source and write to destination\n",
        "        dest_file.write(source_file.read())\n"
      ],
      "metadata": {
        "id": "5ys-0_pJWsA8"
      },
      "id": "5ys-0_pJWsA8",
      "execution_count": 12,
      "outputs": []
    },
    {
      "cell_type": "code",
      "source": [
        "#Question 5: Write a program that handles both IndexError and KeyError using a try-except block.\n",
        "\n",
        "my_list = [1, 2, 3]\n",
        "my_dict = {'a': 10, 'b': 20}\n",
        "\n",
        "try:\n",
        "    # Attempt to access an out-of-range index in the list\n",
        "    print(my_list[5])\n",
        "\n",
        "    # Attempt to access a non-existent key in the dictionary\n",
        "    print(my_dict['z'])\n",
        "except IndexError as e:\n",
        "    print(f\"IndexError caught: {e}\")\n",
        "except KeyError as e:\n",
        "    print(f\"KeyError caught: {e}\")\n"
      ],
      "metadata": {
        "colab": {
          "base_uri": "https://localhost:8080/"
        },
        "id": "vFTjjQkpWsDR",
        "outputId": "795f10a6-5cb6-44cd-c87e-f1d40154e92b"
      },
      "id": "vFTjjQkpWsDR",
      "execution_count": 14,
      "outputs": [
        {
          "output_type": "stream",
          "name": "stdout",
          "text": [
            "IndexError caught: list index out of range\n"
          ]
        }
      ]
    },
    {
      "cell_type": "code",
      "source": [
        "'''Question 6: What are the differences between NumPy arrays and Python lists?\n",
        "\n",
        "NumPy arrays and Python lists differ fundamentally in structure, performance, and use cases. Here are the key differences:\n",
        "\n",
        "Data type and Homogeneity\n",
        "NumPy arrays are homogeneous, meaning all elements must be of the same data type, which enables optimized storage and computation.\n",
        "\n",
        "Python lists are heterogeneous, allowing elements of different types in the same list but with added memory and performance overhead.​\n",
        "\n",
        "Memory and Performance\n",
        "NumPy arrays store elements in contiguous memory blocks, reducing fragmentation and enabling faster access and computation, especially for large datasets.\n",
        "\n",
        "Python lists store references to objects scattered in memory, causing more overhead and slower element access and mathematical operations.\n",
        "\n",
        "Operations and Functionality\n",
        "NumPy arrays support vectorized element-wise operations and efficient broadcasting, benefiting scientific computing and data analysis.\n",
        "\n",
        "Python lists require explicit loops for element-wise operations, which are slower due to Python's interpreted nature.​\n",
        "\n",
        "Memory Consumption\n",
        "NumPy arrays generally consume less memory for large numeric data collections due to fixed data type and compact storage.\n",
        "\n",
        "Python lists consume more memory as they store extra information for each element, including type and reference counts.'''\n"
      ],
      "metadata": {
        "id": "Bzt3DCodWsF9"
      },
      "id": "Bzt3DCodWsF9",
      "execution_count": null,
      "outputs": []
    },
    {
      "cell_type": "code",
      "source": [
        "#Question 7:Explain the difference between apply() and map() in Pandas.\n",
        "'''The difference between apply() and map() in Pandas mainly lies in their scope, flexibility, and supported data structures:\n",
        "\n",
        "map()\n",
        "Defined only for Series objects.\n",
        "\n",
        "Applies a function, dictionary, or Series to each element independently and element-wise.\n",
        "\n",
        "Optimized for simple value mapping or replacement operations on a single column.\n",
        "\n",
        "Can accept a callable function, a dictionary for value mapping, or a Series.\n",
        "\n",
        "Faster for straightforward element-wise transformations on Series.​\n",
        "\n",
        "apply()\n",
        "Defined for both Series and DataFrame objects.\n",
        "\n",
        "More versatile and powerful than map().\n",
        "\n",
        "On a Series, applies a function element-wise.\n",
        "\n",
        "On a DataFrame, applies a function along an axis (rows or columns), enabling aggregation, transformations, or computations on entire rows/columns.\n",
        "\n",
        "Used for complex operations that cannot be vectorized or simple element-wise.\n",
        "\n",
        "Supports applying lambda functions that involve multiple columns at once'''"
      ],
      "metadata": {
        "id": "ATb7cjWfWsI-"
      },
      "id": "ATb7cjWfWsI-",
      "execution_count": null,
      "outputs": []
    },
    {
      "cell_type": "code",
      "source": [
        "#Question 8: Create a histogram using Seaborn to visualize a distribution.\n",
        "\n",
        "import seaborn as sns\n",
        "import matplotlib.pyplot as plt\n",
        "\n",
        "# Sample data: heights of individuals\n",
        "data = [160, 162, 165, 168, 170, 172, 175, 178, 180, 182, 185, 190, 195]\n",
        "\n",
        "# Create the histogram with Seaborn\n",
        "sns.histplot(data, bins=5, kde=False)\n",
        "\n",
        "# Add titles and labels\n",
        "plt.title('Height Distribution')\n",
        "plt.xlabel('Height (cm)')\n",
        "plt.ylabel('Frequency')\n",
        "\n",
        "# Show plot\n",
        "plt.show()\n"
      ],
      "metadata": {
        "colab": {
          "base_uri": "https://localhost:8080/",
          "height": 472
        },
        "id": "ZQjrx7mtWsLh",
        "outputId": "e23a853e-77b5-4f53-d3f7-6480c5cfe4ae"
      },
      "id": "ZQjrx7mtWsLh",
      "execution_count": 15,
      "outputs": [
        {
          "output_type": "display_data",
          "data": {
            "text/plain": [
              "<Figure size 640x480 with 1 Axes>"
            ],
            "image/png": "[encoded data removed]"
          },
          "metadata": {}
        }
      ]
    },
    {
      "cell_type": "code",
      "source": [
        "#Question 9: Use Pandas to load a CSV file and display its first 5 rows.\n",
        "\n",
        "import pandas as pd\n",
        "\n",
        "# Load the CSV file into a DataFrame\n",
        "df = pd.read_csv('industry.csv')\n",
        "\n",
        "# Display the first 5 rows\n",
        "print(df.head())\n"
      ],
      "metadata": {
        "id": "EuHt9xZoe7yf",
        "outputId": "349341f3-4b9f-4073-bc72-1bc08eea5c66",
        "colab": {
          "base_uri": "https://localhost:8080/"
        }
      },
      "id": "EuHt9xZoe7yf",
      "execution_count": 16,
      "outputs": [
        {
          "output_type": "stream",
          "name": "stdout",
          "text": [
            "                        Industry\n",
            "0             Accounting/Finance\n",
            "1   Advertising/Public Relations\n",
            "2             Aerospace/Aviation\n",
            "3  Arts/Entertainment/Publishing\n",
            "4                     Automotive\n"
          ]
        }
      ]
    },
    {
      "cell_type": "code",
      "source": [
        "#Question 10: Calculate the correlation matrix using Seaborn and visualize it with a heatmap.\n",
        "\n",
        "import pandas as pd\n",
        "import seaborn as sns\n",
        "import matplotlib.pyplot as plt\n",
        "\n",
        "# Sample DataFrame (replace with your own data loading)\n",
        "data = {\n",
        "    'A': [1, 2, 3, 4, 5],\n",
        "    'B': [5, 4, 3, 2, 1],\n",
        "    'C': [2, 3, 4, 5, 6],\n",
        "    'D': [5, 3, 2, 4, 1]\n",
        "}\n",
        "df = pd.DataFrame(data)\n",
        "\n",
        "# Calculate the correlation matrix\n",
        "corr = df.corr()\n",
        "\n",
        "# Create a heatmap of the correlation matrix\n",
        "sns.heatmap(corr, annot=True, cmap='coolwarm')\n",
        "\n",
        "# Add title\n",
        "plt.title('Correlation Matrix Heatmap')\n",
        "\n",
        "# Show the plot\n",
        "plt.show()\n"
      ],
      "metadata": {
        "id": "EG9JgGXjf1ra",
        "outputId": "f330bc4f-f117-4aee-df05-8f4c1997d4be",
        "colab": {
          "base_uri": "https://localhost:8080/",
          "height": 452
        }
      },
      "id": "EG9JgGXjf1ra",
      "execution_count": 17,
      "outputs": [
        {
          "output_type": "display_data",
          "data": {
            "text/plain": [
              "<Figure size 640x480 with 2 Axes>"
            ],
            "image/png": "[encoded data removed]"
          },
          "metadata": {}
        }
      ]
    },
    {
      "cell_type": "code",
      "source": [],
      "metadata": {
        "id": "B_AybwT7gFFm"
      },
      "id": "B_AybwT7gFFm",
      "execution_count": null,
      "outputs": []
    }
  ],
  "metadata": {
    "kernelspec": {
      "display_name": "Python 3",
      "name": "python3"
    },
    "language_info": {
      "name": "python"
    },
    "required_libs": [],
    "colab": {
      "provenance": []
    }
  },
  "nbformat": 4,
  "nbformat_minor": 5
}